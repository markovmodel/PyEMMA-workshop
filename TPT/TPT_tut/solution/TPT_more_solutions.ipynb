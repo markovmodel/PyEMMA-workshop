{
 "cells": [
  {
   "cell_type": "code",
   "execution_count": 1,
   "metadata": {},
   "outputs": [],
   "source": [
    "from __future__ import print_function\n",
    "import numpy as np\n",
    "import scipy as sp\n",
    "import scipy.linalg\n",
    "import pyemma\n",
    "import matplotlib\n",
    "import matplotlib.pyplot as plt\n",
    "%matplotlib inline"
   ]
  },
  {
   "cell_type": "markdown",
   "metadata": {},
   "source": [
    "# exercise 1)"
   ]
  },
  {
   "cell_type": "markdown",
   "metadata": {},
   "source": [
    "In TPT, not every choice of A and B gives a reasonable result.\n",
    "In contrast to the implied time scales of a MSM, the comittor, the fluxes and mean-first-passage times depend on the lag time.\n",
    "Consider the following three-state-model.\n",
    "<img src='../tpt_data/chain.png'>\n",
    "Here the Markov State model is written with a rate matrix K. We will use this rate matrix to generate different transition matrices for different lag times. T_short with a lag time of 0.001 and T_long with a lag time of 1.\n",
    "\n",
    "Exercises: compute the committor and the flux for two choices of A and B\n",
    "- A = [0] and B = [1]\n",
    "- A = [0] and B = [2]\n",
    "\n",
    "Compute each of these values for both T_short and T_long.\n",
    "What do you notice? What do you learn about the choice of the sets A and B?"
   ]
  },
  {
   "cell_type": "code",
   "execution_count": 2,
   "metadata": {},
   "outputs": [],
   "source": [
    "K = np.array([[-1,    1,  0],\n",
    "              [100,-300,200],\n",
    "              [0,     1, -1]])\n",
    "T_short = sp.linalg.expm(K*0.001)\n",
    "T_long = sp.linalg.expm(K*1.0)\n",
    "# or T_long = np.linalg.matrix_power(T_short,1000)"
   ]
  },
  {
   "cell_type": "code",
   "execution_count": 3,
   "metadata": {},
   "outputs": [
    {
     "data": {
      "text/plain": [
       "array([ 0.        ,  1.        ,  0.95013084])"
      ]
     },
     "execution_count": 3,
     "metadata": {},
     "output_type": "execute_result"
    }
   ],
   "source": [
    "msm_short = pyemma.msm.markov_model(T_short)\n",
    "tpt_short = pyemma.msm.tpt(msm_short, [0], [1])\n",
    "tpt_short.forward_committor"
   ]
  },
  {
   "cell_type": "code",
   "execution_count": 4,
   "metadata": {},
   "outputs": [
    {
     "data": {
      "text/plain": [
       "array([ 0.       ,  1.       ,  0.0156032])"
      ]
     },
     "execution_count": 4,
     "metadata": {},
     "output_type": "execute_result"
    }
   ],
   "source": [
    "msm_long = pyemma.msm.markov_model(T_long)\n",
    "tpt_01_long = pyemma.msm.tpt(msm_long, [0], [1])\n",
    "tpt_01_long.forward_committor"
   ]
  },
  {
   "cell_type": "code",
   "execution_count": 5,
   "metadata": {},
   "outputs": [
    {
     "data": {
      "text/plain": [
       "array([ 0.        ,  0.66666667,  1.        ])"
      ]
     },
     "execution_count": 5,
     "metadata": {},
     "output_type": "execute_result"
    }
   ],
   "source": [
    "#example with metastable sets\n",
    "tpt_02_short = pyemma.msm.tpt(msm_short, [0], [2])\n",
    "tpt_02_short.forward_committor"
   ]
  },
  {
   "cell_type": "code",
   "execution_count": 6,
   "metadata": {},
   "outputs": [
    {
     "data": {
      "text/plain": [
       "array([ 0.        ,  0.66666667,  1.        ])"
      ]
     },
     "execution_count": 6,
     "metadata": {},
     "output_type": "execute_result"
    }
   ],
   "source": [
    "tpt_20_long = pyemma.msm.tpt(msm_long, [0], [2])\n",
    "tpt_20_long.forward_committor"
   ]
  },
  {
   "cell_type": "markdown",
   "metadata": {},
   "source": [
    "### what do you learn about the choice of the sets A and B?\n",
    "\n",
    "**solution**: the choice `A=[0]`, `B=[2]` gives stable results at different lag times.\n",
    "the choice `A=[0]`, `B=[1]` doesn't. There is an indirect transition (0)<->(2) that\n",
    "becomes very strong at high lag times. Therefore (2) appears highly comitted to (0)\n",
    "(low forward committor) even though (2) should be committed to (1) because of the network topology."
   ]
  },
  {
   "cell_type": "markdown",
   "metadata": {},
   "source": [
    "# Exercise 2) Using PCCA sets"
   ]
  },
  {
   "cell_type": "code",
   "execution_count": 7,
   "metadata": {},
   "outputs": [],
   "source": [
    "# load Alanine dipetide MSM\n",
    "T = np.genfromtxt('../tpt_data/T_rev.dat')\n",
    "lcc = np.genfromtxt('../tpt_data/lcc.dat',dtype=int)\n",
    "centers = np.genfromtxt('../tpt_data/grid_centers20x20.dat')[lcc , :]\n",
    "msm = pyemma.msm.markov_model(T, dt_model='3 ps')"
   ]
  },
  {
   "cell_type": "code",
   "execution_count": 8,
   "metadata": {},
   "outputs": [
    {
     "data": {
      "text/plain": [
       "<matplotlib.colorbar.Colorbar at 0x98eabe0>"
      ]
     },
     "execution_count": 8,
     "metadata": {},
     "output_type": "execute_result"
    },
    {
     "data": {
      "image/png": "[encoded data removed]",
      "text/plain": [
       "<matplotlib.figure.Figure at 0x9665710>"
      ]
     },
     "metadata": {},
     "output_type": "display_data"
    }
   ],
   "source": [
    "# compute the stationary distribution\n",
    "pi = msm.stationary_distribution\n",
    "# this is a very simple way to plot some quantity on the space of the dihedral angles\n",
    "# here we plot pi\n",
    "plt.scatter(centers[:,0],centers[:,1],c=pi,norm=matplotlib.colors.LogNorm(),s=150,marker='s',edgecolor='None')\n",
    "plt.colorbar()"
   ]
  },
  {
   "cell_type": "markdown",
   "metadata": {},
   "source": [
    "**exercise**: compute PCCA memberships"
   ]
  },
  {
   "cell_type": "code",
   "execution_count": 9,
   "metadata": {},
   "outputs": [],
   "source": [
    "# solution\n",
    "memberships = msm.pcca(3).memberships"
   ]
  },
  {
   "cell_type": "markdown",
   "metadata": {},
   "source": [
    "Using `np.where(somedata>threshold)[0]` we can extract the array indices\n",
    "of the elements that fulfill the condition `somedata>threshold`.\n",
    "In other words if `indices=np.where(somedata>threshold)[0]` then `somedata[i]>threshold` for all `i` in `indices`.\n",
    "\n",
    "**exercise**: for each PCCA set, extract the indices of those states that have large memberships, e. g. membership > 0.75. These can be considered as the cores of the PCCA sets."
   ]
  },
  {
   "cell_type": "code",
   "execution_count": 10,
   "metadata": {},
   "outputs": [],
   "source": [
    "# solution\n",
    "cutoff = 0.7\n",
    "A = np.where(memberships[:,0]>cutoff)[0]\n",
    "B = np.where(memberships[:,1]>cutoff)[0]\n",
    "C = np.where(memberships[:,2]>cutoff)[0]"
   ]
  },
  {
   "cell_type": "markdown",
   "metadata": {},
   "source": [
    "Try to plot the locations of the core sets in dihedral space.\n",
    "Consider for example the (arbitrary) set of micro-states:"
   ]
  },
  {
   "cell_type": "code",
   "execution_count": 11,
   "metadata": {},
   "outputs": [
    {
     "data": {
      "text/plain": [
       "<matplotlib.collections.PathCollection at 0x64d6588>"
      ]
     },
     "execution_count": 11,
     "metadata": {},
     "output_type": "execute_result"
    },
    {
     "data": {
      "image/png": "[encoded data removed]",
      "text/plain": [
       "<matplotlib.figure.Figure at 0x964ef28>"
      ]
     },
     "metadata": {},
     "output_type": "display_data"
    }
   ],
   "source": [
    "S=[1,2,10,20]\n",
    "plt.scatter(centers[S,0],centers[S,1],color='b',s=80)\n",
    "# alternative for the color argument are: 'b','g','r','k' (that's black), 'y'\n",
    "# exercise: plot PCCA sets"
   ]
  },
  {
   "cell_type": "code",
   "execution_count": 12,
   "metadata": {},
   "outputs": [
    {
     "data": {
      "text/plain": [
       "<matplotlib.collections.PathCollection at 0x9679f98>"
      ]
     },
     "execution_count": 12,
     "metadata": {},
     "output_type": "execute_result"
    },
    {
     "data": {
      "image/png": "[encoded data removed]",
      "text/plain": [
       "<matplotlib.figure.Figure at 0x976d7b8>"
      ]
     },
     "metadata": {},
     "output_type": "display_data"
    }
   ],
   "source": [
    "# solution\n",
    "plt.scatter(centers[A,0], centers[A,1], color='b', s=150, marker='s', edgecolor='None')\n",
    "plt.scatter(centers[B,0], centers[B,1], color='g', s=150, marker='s', edgecolor='None')\n",
    "plt.scatter(centers[C,0], centers[C,1], color='r', s=150, marker='s', edgecolor='None')"
   ]
  },
  {
   "cell_type": "markdown",
   "metadata": {},
   "source": [
    "**exercise**: compute MFPT between the PCCA core sets (pick some which are interesting)"
   ]
  },
  {
   "cell_type": "code",
   "execution_count": 13,
   "metadata": {},
   "outputs": [
    {
     "data": {
      "text/plain": [
       "47.506402464977597"
      ]
     },
     "execution_count": 13,
     "metadata": {},
     "output_type": "execute_result"
    }
   ],
   "source": [
    "# solution\n",
    "msm.mfpt(B,A)/1000.0 # ns"
   ]
  },
  {
   "cell_type": "markdown",
   "metadata": {},
   "source": [
    "**exercises**: compute the forward comittor (between two PCCA core sets) and show it in dihedral space\n",
    "just like we did with pi but now with qplus"
   ]
  },
  {
   "cell_type": "code",
   "execution_count": 14,
   "metadata": {},
   "outputs": [
    {
     "data": {
      "text/plain": [
       "<matplotlib.colorbar.Colorbar at 0xbd2e710>"
      ]
     },
     "execution_count": 14,
     "metadata": {},
     "output_type": "execute_result"
    },
    {
     "data": {
      "image/png": "[encoded data removed]",
      "text/plain": [
       "<matplotlib.figure.Figure at 0x95c6d68>"
      ]
     },
     "metadata": {},
     "output_type": "display_data"
    }
   ],
   "source": [
    "# solution\n",
    "tpt = pyemma.msm.tpt(msm, B, C)\n",
    "qp=tpt.forward_committor\n",
    "plt.scatter(centers[:,0],centers[:,1],c=qp,s=150,marker='s',edgecolor='None')\n",
    "plt.colorbar()"
   ]
  },
  {
   "cell_type": "markdown",
   "metadata": {},
   "source": [
    "# exercise 3)"
   ]
  },
  {
   "cell_type": "markdown",
   "metadata": {},
   "source": [
    "This is a very simplified four-state model of combined binding and conformational change. \n",
    "<img src='../tpt_data/ifcs.png'>\n",
    "We want to investigate it with TPT. Set A is state (0), the unbound state with the ligand in the mismatched conformation. Set B is the state (3), the bound state with the ligand in the matched conformation. \n",
    "The system can take one of two routes:\n",
    "- through (2), the bound state with the ligand in the mismatched conformation.\n",
    "  On the pathway (0),(2),(3) binding happens before the conformational change. This is called \"induced fit\".\n",
    "- through (1), the unbound state with the ligand in the matched state\n",
    "  On the pathway (0),(1),(3) binding happens after the conformational change. This is called \"conformational selection\" or \"selected fit\".\n",
    "  \n",
    "For the values of p_01, p_10, p_23, p_32, p_20, p_31 we can assume some arbitrary values, like 0.1 for all of them. The result that we want to know doesn't depend on the precise values.\n",
    "The transition rates from (0) to (2) and form (1) to (3) depend on the ligand concentration L. For the sake of simplicity we can just set p_02 = L and p_13 = L with L<0.9.\n",
    "\n",
    "Chose a value for L and compute the flux f_if along the induced fit pathway and the flux f_cs along conformational selection pathway. There is some flux conservation, that you can use to make the analysis easier.\n",
    "Compute the ratio of the fluxes f_if/f_cs. How does this ratio change depending on the ligand concentration?"
   ]
  },
  {
   "cell_type": "code",
   "execution_count": 15,
   "metadata": {},
   "outputs": [],
   "source": [
    "P = np.zeros((4,4))\n",
    "P[0,1] = 0.1\n",
    "P[1,0] = 0.1\n",
    "P[2,3] = 0.1\n",
    "P[3,2] = 0.1\n",
    "P[2,0] = 0.1\n",
    "P[3,1] = 0.1\n",
    "L = 0.3\n",
    "P[0,2] = L\n",
    "P[1,3] = L\n",
    "np.fill_diagonal(P,1-P.sum(axis=1)) # normalize the matrix"
   ]
  },
  {
   "cell_type": "code",
   "execution_count": 16,
   "metadata": {},
   "outputs": [],
   "source": [
    "msm = pyemma.msm.markov_model(P)\n",
    "tpt = pyemma.msm.tpt(msm, [0], [3])"
   ]
  },
  {
   "cell_type": "code",
   "execution_count": 17,
   "metadata": {},
   "outputs": [
    {
     "name": "stdout",
     "output_type": "stream",
     "text": [
      "IF 0.01875 CS: 0.009375\n",
      "ratio IF/CS 2.0\n"
     ]
    }
   ],
   "source": [
    "f_if = tpt.net_flux[0,2]\n",
    "f_cs = tpt.net_flux[0,1]\n",
    "print('IF', f_if, 'CS:', f_cs)\n",
    "print('ratio IF/CS', f_if/f_cs)"
   ]
  },
  {
   "cell_type": "code",
   "execution_count": 18,
   "metadata": {},
   "outputs": [
    {
     "name": "stdout",
     "output_type": "stream",
     "text": [
      "0.01875 0.009375\n"
     ]
    }
   ],
   "source": [
    "# make sure that flux is conserved\n",
    "# this should print the same as f_if, f_cs\n",
    "print(tpt.net_flux[2,3], tpt.net_flux[1,3])"
   ]
  },
  {
   "cell_type": "code",
   "execution_count": 19,
   "metadata": {},
   "outputs": [],
   "source": [
    "# solution: f_if/f_cs increases with increasing ligand concentration"
   ]
  },
  {
   "cell_type": "code",
   "execution_count": null,
   "metadata": {},
   "outputs": [],
   "source": []
  }
 ],
 "metadata": {
  "anaconda-cloud": {},
  "kernelspec": {
   "display_name": "Python 3",
   "language": "python",
   "name": "python3"
  },
  "language_info": {
   "codemirror_mode": {
    "name": "ipython",
    "version": 3
   },
   "file_extension": ".py",
   "mimetype": "text/x-python",
   "name": "python",
   "nbconvert_exporter": "python",
   "pygments_lexer": "ipython3",
   "version": "3.6.3"
  }
 },
 "nbformat": 4,
 "nbformat_minor": 1
}
