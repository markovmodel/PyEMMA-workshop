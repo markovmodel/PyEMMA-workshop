{
 "cells": [
  {
   "cell_type": "markdown",
   "metadata": {},
   "source": [
    "# Understanding MEMMs"
   ]
  },
  {
   "cell_type": "code",
   "execution_count": null,
   "metadata": {},
   "outputs": [],
   "source": [
    "%matplotlib inline\n",
    "import matplotlib.pyplot as plt\n",
    "import matplotlib as mpl\n",
    "import numpy as np\n",
    "import pyemma\n",
    "import mdshare\n",
    "\n",
    "mpl.rcParams.update({'font.size': 14})"
   ]
  },
  {
   "cell_type": "markdown",
   "metadata": {},
   "source": [
    "## Bias energies in multi-temperature simulations\n",
    "\n",
    "$$b^{(i)}(\\mathbf{x}) = \\left( \\frac{1}{\\text{k}_\\text{B} T^{(i)}} - \\frac{1}{\\text{k}_\\text{B} T^{\\circ}} \\right) U(\\mathbf{x}) = \\left( \\frac{1}{\\text{k}_\\text{B} T^{(i)}} - \\frac{1}{\\text{k}_\\text{B} T^{\\circ}} \\right) \\text{k}_\\text{B} T^{(j)} u^{(j)}(\\mathbf{x})$$\n",
    "\n",
    "**Note**: all simulations/fragments at $T=T^\\circ$ are **unbiased** while simulations/fragments at $T\\neq T^\\circ$ are **biased** with respect to the reference temperature.\n",
    "\n",
    "## API functions for multi-temperature simulations\n",
    "\n",
    "For these simulation types, the `pyemma.thermo` module provides the API function\n",
    "\n",
    "```python\n",
    "def estimate_multi_temperature(\n",
    "    energy_trajs, temp_trajs, dtrajs,\n",
    "    energy_unit='kcal/mol', temp_unit='K', reference_temperature=None,\n",
    "    maxiter=10000, maxerr=1.0E-15, save_convergence_info=0,\n",
    "    estimator='wham', lag=1, dt_traj='1 step', init=None):\n",
    "    ...\n",
    "```\n",
    "\n",
    "Let us revisit the example of the asymmetric doublewell potential:\n",
    "\n",
    "### Step 1\n",
    "We start with loading the data and exploring the different trajectory types and realizations."
   ]
  },
  {
   "cell_type": "code",
   "execution_count": null,
   "metadata": {},
   "outputs": [],
   "source": [
    "with np.load(mdshare.load('pyemma-tutorial-mt-data.npz', working_directory='data')) as fh:\n",
    "    trajs = [fh['conf_traj_%03d.npy' % i] for i in range(20)]\n",
    "    temp_trajs = [fh['temp_traj_%03d.npy' % i] for i in range(20)]\n",
    "    energy_trajs = [fh['energy_traj_%03d.npy' % i] for i in range(20)]\n",
    "\n",
    "fig, axes = plt.subplots(len(trajs), 3, figsize=(10, 1 * len(trajs)), sharex=True)\n",
    "for i, (x, t, e) in enumerate(zip(trajs, temp_trajs, energy_trajs)):\n",
    "    axes[i, 0].plot(x)\n",
    "    axes[i, 1].plot(t)\n",
    "    axes[i, 2].plot(e)\n",
    "fig.tight_layout()"
   ]
  },
  {
   "cell_type": "markdown",
   "metadata": {},
   "source": [
    "### Step 2\n",
    "We create a regular grid which covers the full range of all simulated trajectories and assign the latter to these grid points."
   ]
  },
  {
   "cell_type": "code",
   "execution_count": null,
   "metadata": {},
   "outputs": [],
   "source": [
    "x = np.linspace(np.min(trajs), np.max(trajs), 61)\n",
    "centers = 0.5 * (x[:-1] + x[1:]).reshape(-1, 1)\n",
    "dtrajs = pyemma.coordinates.assign_to_centers(trajs, centers=centers)"
   ]
  },
  {
   "cell_type": "markdown",
   "metadata": {},
   "source": [
    "### Step 3\n",
    "Applying WHAM to a *new* dataset is a good way to get a first impression.\n",
    "\n",
    "We pass our three lists with configuration, temperature, and energy trajectories into the `estimate_multi_temperature()` API function. As both, the temperatures and energies, are given in units of $\\text{k}_{\\text{B}}T$, we have to pass this information into the API function, too. Finally, we choose a termination criterion and the level of convergence information output, and we make sure that the API function uses the WHAM estimator."
   ]
  },
  {
   "cell_type": "code",
   "execution_count": null,
   "metadata": {},
   "outputs": [],
   "source": [
    "wham = pyemma.thermo.estimate_multi_temperature(\n",
    "    energy_trajs, temp_trajs, dtrajs,\n",
    "    energy_unit='kT', temp_unit='kT',\n",
    "    maxiter=100000, maxerr=5e-14, save_convergence_info=1,\n",
    "    estimator='wham')"
   ]
  },
  {
   "cell_type": "markdown",
   "metadata": {},
   "source": [
    "After the estimation process terminates, we can visualize the convergence behaviour using a convenience function from the `pyemma.plots` module."
   ]
  },
  {
   "cell_type": "code",
   "execution_count": null,
   "metadata": {},
   "outputs": [],
   "source": [
    "pyemma.plots.plot_convergence_info(wham);"
   ]
  },
  {
   "cell_type": "markdown",
   "metadata": {},
   "source": [
    "The WHAM estimator returns the most simple multiensemble model in `pyemma`. The model contains the stationary distribution and free energy profile of the unbiased state - whether we have provided unbiased data or not:"
   ]
  },
  {
   "cell_type": "code",
   "execution_count": null,
   "metadata": {},
   "outputs": [],
   "source": [
    "fig, (ax_pi, ax_f) = plt.subplots(1, 2, figsize=(10, 4))\n",
    "ax_pi.plot(centers, wham.pi)\n",
    "ax_pi.set_ylabel('$\\pi(x)$')\n",
    "ax_f.plot(centers, wham.f)\n",
    "ax_f.set_ylabel('$f(x)$')\n",
    "for ax in (ax_pi, ax_f):\n",
    "    ax.set_xlabel('$x$')\n",
    "fig.tight_layout()"
   ]
  },
  {
   "cell_type": "markdown",
   "metadata": {},
   "source": [
    "In addition, we have a model for each of the provided thermodynamic states which all include a stationary distribution and free energy profile."
   ]
  },
  {
   "cell_type": "code",
   "execution_count": null,
   "metadata": {},
   "outputs": [],
   "source": [
    "fig, (ax_pi, ax_f) = plt.subplots(1, 2, figsize=(10, 4))\n",
    "ax_pi.plot(centers, wham.pi, ':o', color='black', label='unbiased')\n",
    "ax_pi.set_ylabel('$\\pi(x)$')\n",
    "ax_f.plot(centers, wham.f, ':o', color='black')\n",
    "ax_f.set_ylabel('$f(x)$')\n",
    "for i, model in enumerate(wham.models):\n",
    "    ax_pi.plot(centers, model.pi, label='T=%.2f kT' % wham.temperatures[i])\n",
    "    ax_f.plot(centers, model.f)\n",
    "for ax in (ax_pi, ax_f):\n",
    "    ax.set_xlabel('$x$')\n",
    "ax_pi.legend()\n",
    "fig.tight_layout()"
   ]
  },
  {
   "cell_type": "markdown",
   "metadata": {},
   "source": [
    "We can see in the above figure that the model for $T=1\\text{k}_{\\text{B}}T$ yields the same result as the unbiased thermodynamic state of the WHAM estimation. This is because the `estimate_multi_temperature()` API function use, unless requested otherwise, the lowest temperature as reference and, hence, all simulations/fragments at $T=1\\text{k}_{\\text{B}}T$ are unbiased.\n",
    "\n",
    "### Step 4\n",
    "To obtain kinetic results from our dataset, we apply DTRAM. The call is nearly the same as for WHAM: we just have to change the `estimator` parameter to `dtram` and specify one or more lag times. If we use a single lag time, the function returns a single `MEMM` and if we give more than one lag time, the function instead returns a list of `MEMM` objects."
   ]
  },
  {
   "cell_type": "code",
   "execution_count": null,
   "metadata": {},
   "outputs": [],
   "source": [
    "dtram = pyemma.thermo.estimate_multi_temperature(\n",
    "    energy_trajs, temp_trajs, dtrajs,\n",
    "    energy_unit='kT', temp_unit='kT',\n",
    "    maxiter=20000, maxerr=5e-14, save_convergence_info=20,\n",
    "    estimator='dtram', lag=[i + 1 for i in range(10)])"
   ]
  },
  {
   "cell_type": "markdown",
   "metadata": {},
   "source": [
    "Agan, we visualize the convergence behaviour. Now that we have estimates for several lag times, the plotting functions draws one set of convergence curves for each MEMM.\n",
    "\n",
    "In addition, we can also visualize how the `MEMM` implied timescales (for the unbiased thermodynamic state) converge with the chosen lag times."
   ]
  },
  {
   "cell_type": "code",
   "execution_count": null,
   "metadata": {},
   "outputs": [],
   "source": [
    "fig, (ax_inc, ax_lli, ax_its) = plt.subplots(3, 1, figsize=(10, 15))\n",
    "pyemma.plots.plot_convergence_info(dtram, axes=[ax_inc, ax_lli])\n",
    "pyemma.plots.plot_memm_implied_timescales(dtram, ax=ax_its, nits=5)\n",
    "fig.tight_layout()"
   ]
  },
  {
   "cell_type": "markdown",
   "metadata": {},
   "source": [
    "Based on the implied timescale plot, we select an `MEMM` at a suitable lag time and continue with our analysis.\n",
    "\n",
    "Like WHAM, an MEMM contains the unbiased stationary distribution and free energy profile as well as a list of internal models for all provided thermodynamic states."
   ]
  },
  {
   "cell_type": "code",
   "execution_count": null,
   "metadata": {},
   "outputs": [],
   "source": [
    "memm = dtram[2]\n",
    "\n",
    "fig, (ax_pi, ax_f) = plt.subplots(1, 2, figsize=(10, 4))\n",
    "ax_pi.plot(centers, memm.pi, ':o', color='black', label='unbiased')\n",
    "ax_pi.set_ylabel('$\\pi(x)$')\n",
    "ax_f.plot(centers, memm.f, ':o', color='black')\n",
    "ax_f.set_ylabel('$f(x)$')\n",
    "for i, model in enumerate(memm.models):\n",
    "    ax_pi.plot(centers, model.pi, label='T=%.2f kT' % memm.temperatures[i])\n",
    "    ax_f.plot(centers, model.f)\n",
    "for ax in (ax_pi, ax_f):\n",
    "    ax.set_xlabel('$x$')\n",
    "ax_pi.legend()\n",
    "fig.tight_layout()"
   ]
  },
  {
   "cell_type": "markdown",
   "metadata": {},
   "source": [
    "In contrast to WHAM, each internal model of an `MEMM` is itself a Markov state model object.\n",
    "\n",
    "**Note**: only if we have supplied unbised data can the estimated `MEMM` provide an MSM for the unbiased state!\n",
    "\n",
    "Now that we have an MSM, we can search for metastable states and compute, e.g., mean first passage times (MFPTs) between them."
   ]
  },
  {
   "cell_type": "code",
   "execution_count": null,
   "metadata": {},
   "outputs": [],
   "source": [
    "# extract the unbiased MSM\n",
    "msm = memm.msm\n",
    "\n",
    "# find metastable sets\n",
    "pcca = msm.pcca(2)\n",
    "\n",
    "# visualize the metastable sets\n",
    "fig, (ax_pi, ax_f) = plt.subplots(1, 2, figsize=(10, 4))\n",
    "ax_pi.plot(centers, msm.pi, '--', color='black', label='unbiased')\n",
    "ax_f.plot(centers, msm.f, '--', color='black')\n",
    "for i, s in enumerate(pcca.metastable_sets):\n",
    "    sm = msm.active_set[s]\n",
    "    ax_pi.scatter(centers[sm], msm.pi[sm], c='C%d' % i, label='state %d' % (i + 1))\n",
    "    ax_f.scatter(centers[sm], msm.f[sm], c='C%d' % i)\n",
    "ax_pi.legend()\n",
    "ax_pi.set_ylabel('$\\pi(x)$')\n",
    "ax_f.set_ylabel('$f(x)$')\n",
    "for ax in [ax_pi, ax_f]:\n",
    "    ax.set_xlabel('$x$')\n",
    "fig.tight_layout()"
   ]
  },
  {
   "cell_type": "markdown",
   "metadata": {},
   "source": [
    "Please note that only the highlighted microstates have been visited in the unbiased simulations/fragments."
   ]
  },
  {
   "cell_type": "code",
   "execution_count": null,
   "metadata": {},
   "outputs": [],
   "source": [
    "print('MFPT[1 -> 2] = %7.1f steps' % (msm.mfpt(pcca.metastable_sets[0], pcca.metastable_sets[1])))\n",
    "print('MFPT[2 -> 1] = %7.1f steps' % (msm.mfpt(pcca.metastable_sets[1], pcca.metastable_sets[0])))"
   ]
  },
  {
   "cell_type": "markdown",
   "metadata": {},
   "source": [
    "## Bias energies in umbrella sampling simulations\n",
    "\n",
    "The bias is computed via a harmonic potential based on the deviation of a frame from a reference structure. In the usual one-dimensional case, this reads\n",
    "\n",
    "$$b^{(i)}(\\mathbf{x}) = \\frac{k^{(i)}}{2} \\left\\Vert \\mathbf{x} - \\mathbf{x}^{(i)} \\right\\Vert^2.$$\n",
    "\n",
    "In the more general case, though, one can use a non-symmetric force matrix:\n",
    "\n",
    "$$b^{(i)}(\\mathbf{x}) = \\frac{1}{2} \\left\\langle \\mathbf{x} - \\mathbf{x}^{(i)} \\middle\\vert \\mathbf{k}^{(i)} \\middle\\vert \\mathbf{x} - \\mathbf{x}^{(i)} \\right\\rangle.$$\n",
    "\n",
    "## API functions for umbrella sampling\n",
    "\n",
    "For these simulation types, the `pyemma.thermo` module provides the API function\n",
    "\n",
    "```python\n",
    "def estimate_umbrella_sampling(\n",
    "    us_trajs, us_dtrajs, us_centers, us_force_constants,\n",
    "    md_trajs=None, md_dtrajs=None, kT=None,\n",
    "    maxiter=10000, maxerr=1.0E-15, save_convergence_info=0,\n",
    "    estimator='wham', lag=1, dt_traj='1 step', init=None):\n",
    "    ...\n",
    "\n",
    "```\n",
    "\n",
    "### Step 1\n",
    "We start by loading and visualizing the data."
   ]
  },
  {
   "cell_type": "code",
   "execution_count": null,
   "metadata": {},
   "outputs": [],
   "source": [
    "with np.load(mdshare.load('pyemma-tutorial-us-data.npz', working_directory='data')) as fh:\n",
    "    # load biased data\n",
    "    us_trajs = [fh['us_traj_%03d.npy' % i] for i in range(100)]\n",
    "    us_centers = fh['umbrella_centers'].tolist()\n",
    "    us_force_constants = fh['force_constants'].tolist()\n",
    "    # load unbiased data\n",
    "    md_trajs = [fh['md_traj_%03d.npy' % i] for i in range(5)]\n",
    "\n",
    "fig, (ax_us, ax_md) = plt.subplots(1, 2, figsize=(10, 4))\n",
    "for traj in us_trajs:\n",
    "    ax_us.plot(traj)\n",
    "for traj in md_trajs:\n",
    "    ax_md.plot(traj)\n",
    "for ax in [ax_us, ax_md]:\n",
    "    ax.set_xlabel('steps')\n",
    "    ax.set_ylabel('$x$')\n",
    "fig.tight_layout()"
   ]
  },
  {
   "cell_type": "markdown",
   "metadata": {},
   "source": [
    "The umbrella sampling data seems to overlap nicely (left) but the unbiased data appears to be nonreversible (right).\n",
    "\n",
    "### Step 2\n",
    "We create a regular grid which covers the full range of all simulated trajectories and assign the latter to these grid points."
   ]
  },
  {
   "cell_type": "code",
   "execution_count": null,
   "metadata": {},
   "outputs": [],
   "source": [
    "x = np.linspace(min(np.min(us_trajs), np.min(md_trajs)), max(np.max(us_trajs), np.max(md_trajs)), 61)\n",
    "centers = 0.5 * (x[:-1] + x[1:]).reshape(-1, 1)\n",
    "us_dtrajs = pyemma.coordinates.assign_to_centers(us_trajs, centers=centers)\n",
    "md_dtrajs = pyemma.coordinates.assign_to_centers(md_trajs, centers=centers)"
   ]
  },
  {
   "cell_type": "markdown",
   "metadata": {},
   "source": [
    "### Step 3\n",
    "Apply WHAM to **only** the biased data and visualize."
   ]
  },
  {
   "cell_type": "code",
   "execution_count": null,
   "metadata": {},
   "outputs": [],
   "source": [
    "wham = pyemma.thermo.estimate_umbrella_sampling(\n",
    "    us_trajs, us_dtrajs, us_centers, us_force_constants,\n",
    "    md_trajs=None, md_dtrajs=None,\n",
    "    maxiter=100000, maxerr=5e-14, save_convergence_info=1,\n",
    "    estimator='wham')\n",
    "\n",
    "fig, axes = plt.subplots(2, 2, figsize=(10, 8))\n",
    "pyemma.plots.plot_convergence_info(wham, axes=axes[0, :])\n",
    "axes[1, 0].plot(centers, wham.pi)\n",
    "axes[1, 1].plot(centers, wham.f)\n",
    "for ax in axes[1, :]:\n",
    "    ax.set_xlabel('$x$')\n",
    "axes[1, 0].set_ylabel('$\\pi(x)$')\n",
    "axes[1, 1].set_ylabel('$f(x)$')\n",
    "fig.tight_layout()"
   ]
  },
  {
   "cell_type": "markdown",
   "metadata": {},
   "source": [
    "### Exercise!\n",
    "Apply WHAM to the biased and unbiased data. What happens?"
   ]
  },
  {
   "cell_type": "code",
   "execution_count": null,
   "metadata": {},
   "outputs": [],
   "source": [
    "wham2 = # FIXME\n",
    "\n",
    "fig, axes = plt.subplots(2, 2, figsize=(10, 8))\n",
    "pyemma.plots.plot_convergence_info(wham2, axes=axes[0, :])\n",
    "axes[1, 0].plot(centers, wham.pi, label='wham')\n",
    "axes[1, 1].plot(centers, wham.f)\n",
    "axes[1, 0].plot(centers, wham2.pi, label='wham2')\n",
    "axes[1, 1].plot(centers, wham2.f)\n",
    "for ax in axes[1, :]:\n",
    "    ax.set_xlabel('$x$')\n",
    "axes[1, 0].legend()\n",
    "axes[1, 0].set_ylabel('$\\pi(x)$')\n",
    "axes[1, 1].set_ylabel('$f(x)$')\n",
    "fig.tight_layout()"
   ]
  },
  {
   "cell_type": "markdown",
   "metadata": {},
   "source": [
    "### Step 4\n",
    "Apply DTRAM to the **only** the biased data and visualize."
   ]
  },
  {
   "cell_type": "code",
   "execution_count": null,
   "metadata": {},
   "outputs": [],
   "source": [
    "dtram = pyemma.thermo.estimate_umbrella_sampling(\n",
    "    us_trajs, us_dtrajs, us_centers, us_force_constants,\n",
    "    md_trajs=None, md_dtrajs=None,\n",
    "    maxiter=20000, maxerr=5e-14, save_convergence_info=1,\n",
    "    estimator='dtram', lag=[i + 1 for i in range(10)])\n",
    "\n",
    "fig, (ax_inc, ax_lli, ax_its) = plt.subplots(3, 1, figsize=(10, 15))\n",
    "pyemma.plots.plot_convergence_info(dtram, axes=[ax_inc, ax_lli])\n",
    "pyemma.plots.plot_memm_implied_timescales(dtram, ax=ax_its, nits=5)\n",
    "fig.tight_layout()"
   ]
  },
  {
   "cell_type": "markdown",
   "metadata": {},
   "source": [
    "What happend?\n",
    "\n",
    "**Remember**: an `MEMM` wonly provides an unbiased `MSM`, if we provide unbiased data. By default, the plotting function looks for the unbiased `MSM` which leads to the observed exception.\n",
    "\n",
    "For biased data only, the `MEMM` cannot give us unbiased kinetics. We can still plot the stationary properties, though."
   ]
  },
  {
   "cell_type": "code",
   "execution_count": null,
   "metadata": {},
   "outputs": [],
   "source": [
    "memm = dtram[0]\n",
    "\n",
    "fig, (ax_pi, ax_f) = plt.subplots(1, 2, figsize=(10, 4))\n",
    "ax_pi.plot(centers, memm.pi, ':o', color='black', label='unbiased')\n",
    "ax_pi.set_ylabel('$\\pi(x)$')\n",
    "ax_f.plot(centers, memm.f, ':o', color='black')\n",
    "ax_f.set_ylabel('$f(x)$')\n",
    "for model in memm.models:\n",
    "    ax_pi.plot(centers, model.pi)\n",
    "    ax_f.plot(centers, model.f)\n",
    "for ax in (ax_pi, ax_f):\n",
    "    ax.set_xlabel('$x$')\n",
    "fig.tight_layout()"
   ]
  },
  {
   "cell_type": "markdown",
   "metadata": {},
   "source": [
    "### Exercise!\n",
    "Build an `MEMM` with a suitable lag time, visualize the stationary properties, and compute MFPTs between two metastable states."
   ]
  },
  {
   "cell_type": "code",
   "execution_count": null,
   "metadata": {},
   "outputs": [],
   "source": [
    "# FIXME"
   ]
  }
 ],
 "metadata": {
  "kernelspec": {
   "display_name": "Python 3",
   "language": "python",
   "name": "python3"
  },
  "language_info": {
   "codemirror_mode": {
    "name": "ipython",
    "version": 3
   },
   "file_extension": ".py",
   "mimetype": "text/x-python",
   "name": "python",
   "nbconvert_exporter": "python",
   "pygments_lexer": "ipython3",
   "version": "3.6.1"
  }
 },
 "nbformat": 4,
 "nbformat_minor": 2
}
