{
 "cells": [
  {
   "cell_type": "code",
   "execution_count": null,
   "metadata": {},
   "outputs": [],
   "source": [
    "import pyemma\n",
    "import numpy as np\n",
    "import mdshare\n",
    "import itertools\n",
    "import matplotlib.pyplot as plt\n",
    "%matplotlib inline"
   ]
  },
  {
   "cell_type": "markdown",
   "metadata": {},
   "source": [
    "# Feature selection with VAMP\n",
    "\n",
    "One mission crucial step in building kinetic models like MSMs is to choose a set of molecular features to describe the system of interest. \n",
    "\n",
    "The variational approach to Markov processes (VAMP) provides a systematic way to select the set of molecular features. VAMP provides a set of scoring functions (the so-called VAMP scores) that allow to rank a set of features. Figuatively speaking, the VAMP scores measure the degree of \"slowness\" that can be captured with a given set of features. \n",
    "\n",
    "Here, we want demontrate the application of VAMP scores using the example of the pepentapeptide simulation data.\n",
    "We will compare dihedrals angles, minimal residues distance and heavy atom contacts."
   ]
  },
  {
   "cell_type": "markdown",
   "metadata": {},
   "source": [
    "We start by downloading the pentapeptide data."
   ]
  },
  {
   "cell_type": "code",
   "execution_count": null,
   "metadata": {},
   "outputs": [],
   "source": [
    "# download the peptapeptide data\n",
    "topfile = mdshare.load('pentapeptide-nowater.pdb')\n",
    "traj_list = [mdshare.load('pentapeptide-%02d-500ns.xtc' % i) for i in range(25)]"
   ]
  },
  {
   "cell_type": "markdown",
   "metadata": {},
   "source": [
    "## 1. Dihedrals"
   ]
  },
  {
   "cell_type": "markdown",
   "metadata": {},
   "source": [
    "First, we test dihedral angles. We start by computing the sine and cosine of all diheral angles at saving them as a list of numpy arrays."
   ]
  },
  {
   "cell_type": "code",
   "execution_count": null,
   "metadata": {},
   "outputs": [],
   "source": [
    "feat = pyemma.coordinates.featurizer(topfile)\n",
    "feat.add_backbone_torsions(cossin=True)\n",
    "feat.add_sidechain_torsions(which=['chi1'])\n",
    "data_dih = pyemma.coordinates.load(traj_list, features=feat)"
   ]
  },
  {
   "cell_type": "markdown",
   "metadata": {},
   "source": [
    "Next, we compute a so-called Koopman model.\n",
    "\n",
    "#### Scoring the features works by scoring a dynamic model\n",
    "\n",
    "\n",
    "The Koopman operator $\\mathcal{K}$ is an integral operator\n",
    "that describes conditional future expectation values. Let\n",
    "$p(\\mathbf{x},\\,\\mathbf{y})$ be the conditional probability\n",
    "density of visiting an infinitesimal phase space volume around\n",
    "point $\\mathbf{y}$ at time $t+\\tau$ given that the phase\n",
    "space point $\\mathbf{x}$ was visited at the earlier time\n",
    "$t$ Then the action of the Koopman operator on a function\n",
    "$f$ can be written as follows:\n",
    "\n",
    "$$ \\mathcal{K}f=\\int p(\\mathbf{x},\\,\\mathbf{y})f(\\mathbf{y})\\,\\mathrm{dy}=\\mathbb{E}\\left[f(\\mathbf{x}_{t+\\tau}\\mid\\mathbf{x}_{t}=\\mathbf{x})\\right] $$\n",
    "\n",
    "If we approximate $f$ by a linear superposition of ansatz\n",
    "functions $\\boldsymbol{\\chi}$ of the conformational\n",
    "degrees of freedom (features), the operator $\\mathcal{K}$\n",
    "can be approximated by a (finite-dimensional) matrix $\\mathbf{K}$.\n",
    "\n",
    "The approximation is computed as follows: From the time-dependent\n",
    "input features $\\boldsymbol{\\chi}(t)$, we compute the mean\n",
    "$\\boldsymbol{\\mu}_{0}$ ($\\boldsymbol{\\mu}_{1}$) from\n",
    "all data excluding the last (first) $\\tau$ steps of every\n",
    "trajectory as follows:\n",
    "\n",
    "$$\n",
    "  \\boldsymbol{\\mu}_{0}\t:=\\frac{1}{T-\\tau}\\sum_{t=0}^{T-\\tau}\\boldsymbol{\\chi}(t) \\\\\n",
    "  \\boldsymbol{\\mu}_{1}\t:=\\frac{1}{T-\\tau}\\sum_{t=\\tau}^{T}\\boldsymbol{\\chi}(t)\n",
    "$$\n",
    "\n",
    "Next, we compute the instantaneous covariance matrices\n",
    "$\\mathbf{C}_{00}$ and $\\mathbf{C}_{11}$ and the\n",
    "time-lagged covariance matrix $\\mathbf{C}_{01}$ as follows:\n",
    "\n",
    "$$\n",
    "\\mathbf{C}_{00}\t:=\\frac{1}{T-\\tau}\\sum_{t=0}^{T-\\tau}\\left[\\boldsymbol{\\chi}(t)-\\boldsymbol{\\mu}_{0}\\right]\\left[\\boldsymbol{\\chi}(t)-\\boldsymbol{\\mu}_{0}\\right] \\\\\n",
    "\\mathbf{C}_{11}\t:=\\frac{1}{T-\\tau}\\sum_{t=\\tau}^{T}\\left[\\boldsymbol{\\chi}(t)-\\boldsymbol{\\mu}_{1}\\right]\\left[\\boldsymbol{\\chi}(t)-\\boldsymbol{\\mu}_{1}\\right] \\\\\n",
    "\\mathbf{C}_{01}\t:=\\frac{1}{T-\\tau}\\sum_{t=0}^{T-\\tau}\\left[\\boldsymbol{\\chi}(t)-\\boldsymbol{\\mu}_{0}\\right]\\left[\\boldsymbol{\\chi}(t+\\tau)-\\boldsymbol{\\mu}_{1}\\right]\n",
    "$$\n",
    "\n",
    "The Koopman matrix is then computed as follows:\n",
    "\n",
    "$$ \\mathbf{K}=\\mathbf{C}_{00}^{-1}\\mathbf{C}_{01} $$\n",
    "\n",
    "We now estimate a Koopman model using the dihedral angles \n",
    "as input features."
   ]
  },
  {
   "cell_type": "code",
   "execution_count": null,
   "metadata": {},
   "outputs": [],
   "source": [
    "vamp_dih = pyemma.coordinates.vamp(data_dih, lag=20, dim=4)"
   ]
  },
  {
   "cell_type": "markdown",
   "metadata": {},
   "source": [
    "It can be shown that the leading singular functions of the\n",
    "half-weighted Koopman matrix\n",
    "$$ \\bar{\\mathbf{K}}:=\\mathbf{C}_{00}^{-\\frac{1}{2}}\\mathbf{C}_{01}\\mathbf{C}_{11}^{-\\frac{1}{2}} $$\n",
    "encode the best reduced dynamical model for the time series.\n",
    "The corresponding singular values $\\boldsymbol{\\sigma}$ measure the \n",
    "amont \"slowness\" caputured in the reduced dynamical model.\n",
    "\n",
    "The so-called VAMP1-score of the model $\\mathbf{K}$ is just the sum of the first `dim` singular values.\n",
    "Above, in the call to `pyemma.coordinates.vamp` we have fixed the dimension of the Koopman model to 4. Therefore the VAMP-1 score will be the sum of the largest 4 singular values + 1. The + 1 term comes from the constant singular value $\\sigma_0=1$ that every Koopman model posesses and which is accompanied by a constant singular functions. We do not include the constant singular function in the output (`vamp_dih.get_output()`) and it is never counted in `dim`."
   ]
  },
  {
   "cell_type": "code",
   "execution_count": null,
   "metadata": {},
   "outputs": [],
   "source": [
    "vamp_dih.score(score_method='VAMP1')"
   ]
  },
  {
   "cell_type": "markdown",
   "metadata": {},
   "source": [
    "Alternative choices are the VAMP-2 score and the VAMP-E score. For details, please refer to the docstring of `score`."
   ]
  },
  {
   "cell_type": "markdown",
   "metadata": {},
   "source": [
    "#### Computing a generalizable score with the help of cross-validation\n",
    "\n",
    "Like all models, the Koopman model can be subject to overfitting. Overfitting means that model parameters learned do not\n",
    "generalize to an independent data set.\n",
    "\n",
    "To assess how the results of a statistical analysis will generalize to an independent data set, we perform cross-validation\n",
    "\n",
    "One round of cross-validation involves partitioning a sample of data into complementary subsets, performing the analysis on one subset (called the training set), and validating the analysis on the other subset (called the validation set or testing set). To reduce variability, in most methods multiple rounds of cross-validation are performed using different partitions, and the validation results are combined (e.g. averaged) over the rounds to estimate a final predictive model.\n",
    "\n",
    "Next, we implement leave one out cross-validation. There we run as many rounds of estimation as we have trajectories. The training data in each run consits of all the trajectories except one trajectory, which will be used as the test data.\n",
    "\n",
    "#### Cross-validation requires a VAMP-score that depends on training data and test data\n",
    "\n",
    "The VAMP score in this case cannot be simply the sum of singular values of the model.\n",
    "Here, *both* the training data *and* the test data need to be taken into account. \n",
    "A sensible way of defined a VAMP scores that depends both data sets was propose by Wu et al.\n",
    "and it is given by the equation\n",
    "$$ \\text{VAMP-}r\\,\\text{score} = \\|(\\mathbf{U}^{\\text{train},T}\\mathbf{C}_{00}^{\\text{test}}\\mathbf{U}^{\\text{train}})^{-\\frac{1}{2}}(\\mathbf{U}^{\\text{train},T}\\mathbf{C}_{01}^{\\text{test}}\\mathbf{V}^{\\text{train}})(\\mathbf{V}^{\\text{train},T}\\mathbf{C}_{11}^{\\text{test}}\\mathbf{V}^{\\text{train}})^{-\\frac{1}{2}}\\|_{r}^{r} $$\n",
    "\n",
    "where $\\mathbf{C}_{ij}$ are the covariance matrices as defined above and $\\mathbf{U}$ and $\\mathbf{V}$ are transformed singular vectors the half-weighted Koopman matrix computed from the training data.\n",
    "$$ \\bar{\\mathbf{K}}^{\\text{train}}=\\mathbf{U}^{\\prime \\text{train}}\\mathbf{S}\\mathbf{V}^{\\prime \\text{train}} $$\n",
    "$$ \\mathbf{U}^{\\text{train}} = \\left( C_{00}^{\\text{train}} \\right)^{-\\frac{1}{2}} \\mathbf{U}^{\\prime \\text{train}} $$\n",
    "$$ \\mathbf{V}^{\\text{train}} = \\left( C_{11}^{\\text{train}} \\right)^{-\\frac{1}{2}} \\mathbf{V}^{\\prime \\text{train}} $$\n",
    "\n",
    "In Pyemma this equation is implemented under the function `v.score(test_data)` where  `v` is a `VAMP` estiamtor that was trained with the training data and `test_data` is the test data."
   ]
  },
  {
   "cell_type": "code",
   "execution_count": null,
   "metadata": {},
   "outputs": [],
   "source": [
    "def leave_out_one_cv_score(trajs):\n",
    "    scores = []\n",
    "    for i in range(len(trajs)):\n",
    "        # split the data into a training set and a test set\n",
    "        traning_data = [ t for j,t in enumerate(trajs) if j!=i ]\n",
    "        test_data = [trajs[i]]\n",
    "        # train a Koopman model (VAMP) with the training data\n",
    "        vamp = pyemma.coordinates.vamp(traning_data, lag=20, dim=4)\n",
    "        # test the model that we just estimated with the test data\n",
    "        scores.append(vamp.score(test_data, score_method='VAMP1'))\n",
    "    return np.mean(scores), np.std(scores)"
   ]
  },
  {
   "cell_type": "code",
   "execution_count": null,
   "metadata": {},
   "outputs": [],
   "source": [
    "score_dih = leave_out_one_cv_score(data_dih)\n",
    "print(score_dih[0], '+-', score_dih[1])"
   ]
  },
  {
   "cell_type": "markdown",
   "metadata": {},
   "source": [
    "To get an rough insight into the quality of the dynamic model, we plot a 2-D histogram where we project all the simulation data into the singualar fucntions of the half-weigted Koopman matrix."
   ]
  },
  {
   "cell_type": "code",
   "execution_count": null,
   "metadata": {},
   "outputs": [],
   "source": [
    "def show_ic_fel(vamp):\n",
    "    ics_trajs = vamp.get_output()\n",
    "    ics = np.concatenate(ics_trajs)\n",
    "    pyemma.plots.plot_free_energy(ics[:, 0], ics[:, 1])"
   ]
  },
  {
   "cell_type": "code",
   "execution_count": null,
   "metadata": {},
   "outputs": [],
   "source": [
    "show_ic_fel(vamp_dih)"
   ]
  },
  {
   "cell_type": "markdown",
   "metadata": {},
   "source": [
    "We see that the projection show well separated density blobs which is indicative of a metastable system that spends much time in a single blob and rarely transtions to a different density blob."
   ]
  },
  {
   "cell_type": "markdown",
   "metadata": {},
   "source": [
    "## 2. Residue mindists"
   ]
  },
  {
   "cell_type": "markdown",
   "metadata": {},
   "source": [
    "We repeat all steps for another feature set consititing of all minimal distances between all residues."
   ]
  },
  {
   "cell_type": "code",
   "execution_count": null,
   "metadata": {},
   "outputs": [],
   "source": [
    "feat = pyemma.coordinates.featurizer(topfile)\n",
    "feat.add_residue_mindist(list(itertools.combinations(range(5), 2)), periodic=False)\n",
    "data_rmindist = pyemma.coordinates.load(traj_list, features=feat)"
   ]
  },
  {
   "cell_type": "code",
   "execution_count": null,
   "metadata": {},
   "outputs": [],
   "source": [
    "vamp_rmindist = pyemma.coordinates.vamp(data_rmindist, lag=20,  dim=4)"
   ]
  },
  {
   "cell_type": "code",
   "execution_count": null,
   "metadata": {},
   "outputs": [],
   "source": [
    "vamp_rmindist.score(score_method='VAMP1')"
   ]
  },
  {
   "cell_type": "code",
   "execution_count": null,
   "metadata": {},
   "outputs": [],
   "source": [
    "score_rmindist = leave_out_one_cv_score(data_rmindist)\n",
    "print(score_rmindist[0], '+-', score_rmindist[1])"
   ]
  },
  {
   "cell_type": "markdown",
   "metadata": {},
   "source": [
    "Compared with the Koopman model estimated from dihedral angles, the Koopman model estimated from minimal residue distances has a lower VAMP score.\n",
    "\n",
    "Looking at the projection of the simulation data onto the singular functions of the half-weighted Koopman matrix that was estimated from minimal residue distances is in agreement with the low score. The projection look more fuzzy at shows less clearly separated density blobs."
   ]
  },
  {
   "cell_type": "code",
   "execution_count": null,
   "metadata": {},
   "outputs": [],
   "source": [
    "show_ic_fel(vamp_rmindist)"
   ]
  },
  {
   "cell_type": "markdown",
   "metadata": {},
   "source": [
    "## Summary\n",
    "\n",
    "To conclude, we present the scores graphically. This shows that dihedral angles yield a significantly larger score then the minimal residue distances. "
   ]
  },
  {
   "cell_type": "code",
   "execution_count": null,
   "metadata": {},
   "outputs": [],
   "source": [
    "fig, ax = plt.subplots()\n",
    "rects1 = ax.bar([1, 2], [score_dih[0], score_rmindist[0]], yerr=[score_dih[1], score_rmindist[1]])\n",
    "ax.set_ylabel('VAMP score')\n",
    "ax.set_xlabel('feature set')\n",
    "ax.set_xticks((1, 2))\n",
    "ax.set_xticklabels(('dihedrals','residue dist.'));"
   ]
  },
  {
   "cell_type": "markdown",
   "metadata": {},
   "source": [
    "## A. Contacts between heavy atoms (computationally more expensive)"
   ]
  },
  {
   "cell_type": "markdown",
   "metadata": {},
   "source": [
    "As a third example, we investigate heavy atom constacts as a candidate for a set of good features.\n",
    "Running this takes a couple of minutes."
   ]
  },
  {
   "cell_type": "code",
   "execution_count": null,
   "metadata": {},
   "outputs": [],
   "source": [
    "feat = pyemma.coordinates.featurizer(topfile)\n",
    "feat.add_contacts(list(itertools.combinations(feat.select_Heavy(), 2)), threshold=0.45)\n",
    "data_con = pyemma.coordinates.load(traj_list, features=feat)"
   ]
  },
  {
   "cell_type": "code",
   "execution_count": null,
   "metadata": {},
   "outputs": [],
   "source": [
    "vamp_con = pyemma.coordinates.vamp(data_con, lag=20,  dim=4)"
   ]
  },
  {
   "cell_type": "code",
   "execution_count": null,
   "metadata": {},
   "outputs": [],
   "source": [
    "vamp_con.score()"
   ]
  },
  {
   "cell_type": "code",
   "execution_count": null,
   "metadata": {},
   "outputs": [],
   "source": [
    "score_con = leave_out_one_cv_score(data_con)"
   ]
  },
  {
   "cell_type": "code",
   "execution_count": null,
   "metadata": {},
   "outputs": [],
   "source": [
    "show_ic_fel(vamp_con)"
   ]
  },
  {
   "cell_type": "code",
   "execution_count": null,
   "metadata": {},
   "outputs": [],
   "source": [
    "fig, ax = plt.subplots()\n",
    "rects1 = ax.bar([1, 2, 3], [score_dih[0], score_rmindist[0], score_con[0]], \n",
    "                yerr=[score_dih[1], score_rmindist[1], score_con[1]])\n",
    "ax.set_ylabel('VAMP score')\n",
    "ax.set_xlabel('feature set')\n",
    "ax.set_xticks((1, 2, 3))\n",
    "ax.set_xticklabels(('dihedrals', 'residue dist.', 'contacts'));"
   ]
  },
  {
   "cell_type": "code",
   "execution_count": null,
   "metadata": {},
   "outputs": [],
   "source": []
  }
 ],
 "metadata": {
  "kernelspec": {
   "display_name": "Python 3",
   "language": "python",
   "name": "python3"
  },
  "language_info": {
   "codemirror_mode": {
    "name": "ipython",
    "version": 3
   },
   "file_extension": ".py",
   "mimetype": "text/x-python",
   "name": "python",
   "nbconvert_exporter": "python",
   "pygments_lexer": "ipython3",
   "version": "3.6.3"
  }
 },
 "nbformat": 4,
 "nbformat_minor": 2
}
