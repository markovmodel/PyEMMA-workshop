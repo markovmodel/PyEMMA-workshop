{
 "cells": [
  {
   "cell_type": "markdown",
   "metadata": {},
   "source": [
    "# Transition path theory"
   ]
  },
  {
   "cell_type": "code",
   "execution_count": null,
   "metadata": {},
   "outputs": [],
   "source": [
    "from __future__ import print_function\n",
    "import numpy as np\n",
    "import pyemma\n",
    "import matplotlib.pyplot as plt\n",
    "%matplotlib inline"
   ]
  },
  {
   "cell_type": "code",
   "execution_count": null,
   "metadata": {
    "scrolled": true
   },
   "outputs": [],
   "source": [
    "# Start with toy system\n",
    "P = np.array([[0.8,  0.15, 0.05,  0.0,  0.0],\n",
    "              [0.1,  0.75, 0.05, 0.05, 0.05],\n",
    "              [0.05,  0.1,  0.8,  0.0,  0.05],\n",
    "              [0.0,  0.2, 0.0,  0.8,  0.0],\n",
    "              [0.0,  0.02, 0.02, 0.0,  0.96]])\n",
    "M = pyemma.msm.markov_model(P)\n",
    "#pos = np.array([[2.0, -1.5], [1, 0], [2.0, 1.5], [0.0, -1.5], [0.0, 1.5]])\n",
    "pos = np.array([[ 0., 0.], [ 0.36,  0.], [ 0.43,  0.5], [ 0.36, -0.5], [ 1.,  0.]])\n",
    "pyemma.plots.plot_markov_model(M, pos=pos, max_height=5, max_width=5);"
   ]
  },
  {
   "cell_type": "code",
   "execution_count": null,
   "metadata": {},
   "outputs": [],
   "source": [
    "A = [0]\n",
    "B = [4]\n",
    "tpt = pyemma.msm.tpt(M, A, B)"
   ]
  },
  {
   "cell_type": "code",
   "execution_count": null,
   "metadata": {},
   "outputs": [],
   "source": [
    "# get tpt gross flux\n",
    "F = tpt.gross_flux\n",
    "print('**Flux matrix**: ')\n",
    "print(F)\n",
    "print('**forward committor**: ')\n",
    "print(tpt.committor)\n",
    "print('**backward committor**: ')\n",
    "print(tpt.backward_committor)\n",
    "# we position states along the y-axis according to the commitor\n",
    "#tptpos = np.array([tpt.committor, [0, 0, 0.5, -0.5, 0]]).transpose()\n",
    "print('\\n**Gross flux illustration**: ')\n",
    "pyemma.plots.plot_flux(\n",
    "    tpt, pos=pos, arrow_label_format=\"%10.4f\", attribute_to_plot='gross_flux', max_height=5, max_width=5)"
   ]
  },
  {
   "cell_type": "code",
   "execution_count": null,
   "metadata": {},
   "outputs": [],
   "source": [
    "# get tpt net flux\n",
    "Fp = tpt.net_flux\n",
    "# or: tpt.flux (it's the same!)\n",
    "print('**Net-Flux matrix**: ')\n",
    "print(Fp)\n",
    "# visualize\n",
    "pyemma.plots.plot_flux(\n",
    "    tpt, pos=pos, arrow_label_format=\"%10.4f\", attribute_to_plot='net_flux', max_height=5, max_width=5)"
   ]
  },
  {
   "cell_type": "code",
   "execution_count": null,
   "metadata": {},
   "outputs": [],
   "source": [
    "print('Total TPT flux = ', tpt.total_flux)\n",
    "print('Rate from TPT flux = ', tpt.rate)\n",
    "print('A->B transition time = ', 1.0 / tpt.rate)"
   ]
  },
  {
   "cell_type": "code",
   "execution_count": null,
   "metadata": {},
   "outputs": [],
   "source": [
    "print('mfpt(0,4) = ', M.mfpt(0, 4))"
   ]
  },
  {
   "cell_type": "code",
   "execution_count": null,
   "metadata": {},
   "outputs": [],
   "source": [
    "pyemma.plots.plot_flux(\n",
    "    tpt, pos=pos, flux_scale=100.0/tpt.total_flux, arrow_label_format=\"%3.1f\", max_height=5, max_width=5)"
   ]
  },
  {
   "cell_type": "code",
   "execution_count": null,
   "metadata": {},
   "outputs": [],
   "source": [
    "tpt.pathways()"
   ]
  },
  {
   "cell_type": "code",
   "execution_count": null,
   "metadata": {},
   "outputs": [],
   "source": [
    "(paths,pathfluxes) = tpt.pathways()\n",
    "cumflux = 0\n",
    "print(\"Path flux\\t\\t%path\\t%of total\\tpath\")\n",
    "for i in range(len(paths)):\n",
    "    cumflux += pathfluxes[i]\n",
    "    print(\n",
    "        pathfluxes[i],\n",
    "        '\\t', '%3.1f' % (100.0 * pathfluxes[i] / tpt.total_flux),\n",
    "        '%\\t', '%3.1f' % (100.0 * cumflux / tpt.total_flux), '%\\t\\t', paths[i])"
   ]
  },
  {
   "cell_type": "code",
   "execution_count": null,
   "metadata": {},
   "outputs": [],
   "source": [
    "(bestpaths,bestpathfluxes) = tpt.pathways(fraction=0.95)\n",
    "cumflux = 0\n",
    "print(\"Path flux\\t\\t%path\\t%of total\\tpath\")\n",
    "for i in range(len(bestpaths)):\n",
    "    cumflux += bestpathfluxes[i]\n",
    "    print(\n",
    "        bestpathfluxes[i],\n",
    "        '\\t', '%3.1f' % (100.0 * bestpathfluxes[i] / tpt.total_flux),\n",
    "        '%\\t','%3.1f' % (100.0 * cumflux / tpt.total_flux), '%\\t\\t', bestpaths[i])"
   ]
  },
  {
   "cell_type": "code",
   "execution_count": null,
   "metadata": {},
   "outputs": [],
   "source": [
    "Fsub = tpt.major_flux(fraction=0.95)\n",
    "print(Fsub)\n",
    "Fsubpercent = 100.0 * Fsub / tpt.total_flux\n",
    "pyemma.plots.plot_network(\n",
    "    Fsubpercent, pos=pos, state_sizes=tpt.stationary_distribution,\n",
    "    arrow_label_format=\"%3.1f\", max_height=5, max_width=5)"
   ]
  },
  {
   "cell_type": "code",
   "execution_count": null,
   "metadata": {},
   "outputs": [],
   "source": []
  }
 ],
 "metadata": {
  "anaconda-cloud": {},
  "kernelspec": {
   "display_name": "Python 3",
   "language": "python",
   "name": "python3"
  },
  "language_info": {
   "codemirror_mode": {
    "name": "ipython",
    "version": 3
   },
   "file_extension": ".py",
   "mimetype": "text/x-python",
   "name": "python",
   "nbconvert_exporter": "python",
   "pygments_lexer": "ipython3",
   "version": "3.6.1"
  }
 },
 "nbformat": 4,
 "nbformat_minor": 1
}
