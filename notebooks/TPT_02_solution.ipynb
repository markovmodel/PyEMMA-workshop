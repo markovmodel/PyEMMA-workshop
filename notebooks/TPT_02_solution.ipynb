{
 "cells": [
  {
   "cell_type": "code",
   "execution_count": null,
   "metadata": {},
   "outputs": [],
   "source": [
    "from __future__ import print_function\n",
    "%matplotlib inline\n",
    "import pyemma\n",
    "import numpy as np\n",
    "np.set_printoptions(precision=3)"
   ]
  },
  {
   "cell_type": "code",
   "execution_count": null,
   "metadata": {},
   "outputs": [],
   "source": [
    "P_nonrev = np.array([\n",
    "[0.5, 0.2, 0.0, 0.0, 0.3, 0.0, 0.0, 0.0, 0.0, 0.0, 0.0, 0.0, 0.0, 0.0, 0.0, 0.0],\n",
    "[0.2, 0.5, 0.1, 0.0, 0.0, 0.2, 0.0, 0.0, 0.0, 0.0, 0.0, 0.0, 0.0, 0.0, 0.0, 0.0],\n",
    "[0.0, 0.1, 0.5, 0.2, 0.0, 0.0, 0.2, 0.0, 0.0, 0.0, 0.0, 0.0, 0.0, 0.0, 0.0, 0.0],\n",
    "[0.0, 0.0, 0.1, 0.5, 0.0, 0.0, 0.0, 0.4, 0.0, 0.0, 0.0, 0.0, 0.0, 0.0, 0.0, 0.0],\n",
    "[0.3, 0.0, 0.0, 0.0, 0.5, 0.1, 0.0, 0.0, 0.1, 0.0, 0.0, 0.0, 0.0, 0.0, 0.0, 0.0],\n",
    "[0.0, 0.1, 0.0, 0.0, 0.2, 0.5, 0.1, 0.0, 0.0, 0.1, 0.0, 0.0, 0.0, 0.0, 0.0, 0.0],\n",
    "[0.0, 0.0, 0.1, 0.0, 0.0, 0.1, 0.5, 0.2, 0.0, 0.0, 0.1, 0.0, 0.0, 0.0, 0.0, 0.0],\n",
    "[0.0, 0.0, 0.0, 0.1, 0.0, 0.0, 0.3, 0.5, 0.0, 0.0, 0.0, 0.1, 0.0, 0.0, 0.0, 0.0],\n",
    "[0.0, 0.0, 0.0, 0.0, 0.1, 0.0, 0.0, 0.0, 0.5, 0.1, 0.0, 0.0, 0.3, 0.0, 0.0, 0.0],\n",
    "[0.0, 0.0, 0.0, 0.0, 0.0, 0.1, 0.0, 0.0, 0.2, 0.5, 0.1, 0.0, 0.0, 0.1, 0.0, 0.0],\n",
    "[0.0, 0.0, 0.0, 0.0, 0.0, 0.0, 0.1, 0.0, 0.0, 0.1, 0.5, 0.1, 0.0, 0.0, 0.2, 0.0],\n",
    "[0.0, 0.0, 0.0, 0.0, 0.0, 0.0, 0.0, 0.1, 0.0, 0.0, 0.2, 0.5, 0.0, 0.0, 0.0, 0.2],\n",
    "[0.0, 0.0, 0.0, 0.0, 0.0, 0.0, 0.0, 0.0, 0.3, 0.0, 0.0, 0.0, 0.5, 0.2, 0.0, 0.0],\n",
    "[0.0, 0.0, 0.0, 0.0, 0.0, 0.0, 0.0, 0.0, 0.0, 0.1, 0.0, 0.0, 0.3, 0.5, 0.1, 0.0],\n",
    "[0.0, 0.0, 0.0, 0.0, 0.0, 0.0, 0.0, 0.0, 0.0, 0.0, 0.2, 0.0, 0.0, 0.1, 0.5, 0.2],\n",
    "[0.0, 0.0, 0.0, 0.0, 0.0, 0.0, 0.0, 0.0, 0.0, 0.0, 0.0, 0.3, 0.0, 0.0, 0.2, 0.5],\n",
    "])\n",
    "M_nonrev = pyemma.msm.markov_model(P_nonrev)\n",
    "w_nonrev = M_nonrev.stationary_distribution\n",
    "# make reversible\n",
    "C = np.dot(np.diag(w_nonrev), P_nonrev)\n",
    "Csym = C + C.T\n",
    "P = Csym / np.sum(Csym,axis=1)[:,np.newaxis]\n",
    "M = pyemma.msm.markov_model(P)\n",
    "w = M.stationary_distribution\n",
    "# plot\n",
    "Ppos = np.array([[1,4],[2,4],[3,4],[4,4],\n",
    "                  [1,3],[2,3],[3,3],[4,3],\n",
    "                  [1,2],[2,2],[3,2],[4,2],\n",
    "                  [1,1],[2,1],[3,1],[4,1]], dtype=float)\n",
    "pyemma.plots.plot_markov_model(P, pos=Ppos, state_sizes=w, arrow_label_format=\"%1.2f\");"
   ]
  },
  {
   "cell_type": "code",
   "execution_count": null,
   "metadata": {},
   "outputs": [],
   "source": [
    "A = [0,4]\n",
    "B = [11,15]"
   ]
  },
  {
   "cell_type": "markdown",
   "metadata": {},
   "source": [
    "Q: compute gross flux from A=[0,4] to B=[11,15] and plot it using `pyemma.plots.plot_flux`\n",
    "\n",
    "You can find the relevant documentation online under \n",
    " * http://www.emma-project.org/latest/api/generated/pyemma.msm.tpt.html\n",
    " * http://www.emma-project.org/latest/api/index_plots.html\n",
    " \n",
    "and in the ipython/jupyter help by running\n",
    " * `pyemma.msm.tpt?`\n",
    " * `pyemma.plots.plot_flux?`\n",
    "\n",
    "(or by pressing shift-TAB shift-TAB after typing the command)\n",
    "\n",
    "hint: use the options attribute_to_plot='gross_flux' and pos=Ppos in pyemma.plots.plot_flux "
   ]
  },
  {
   "cell_type": "code",
   "execution_count": null,
   "metadata": {},
   "outputs": [],
   "source": [
    "# A:\n",
    "tpt = pyemma.msm.tpt(M, A, B)\n",
    "print(tpt.gross_flux)\n",
    "pyemma.plots.plot_flux(tpt, attribute_to_plot='gross_flux', pos=Ppos);"
   ]
  },
  {
   "cell_type": "markdown",
   "metadata": {},
   "source": [
    "Q: compute net flux corresponding to the gross flux above and plot it\n",
    "hint. use `attribute_to_plot='net_flux'` in `pyemma.plots.plot_flux`"
   ]
  },
  {
   "cell_type": "code",
   "execution_count": null,
   "metadata": {},
   "outputs": [],
   "source": [
    "# A:\n",
    "tpt = pyemma.msm.tpt(M, A, B)\n",
    "print(tpt.net_flux)\n",
    "pyemma.plots.plot_flux(tpt, attribute_to_plot='net_flux', pos=Ppos);"
   ]
  },
  {
   "cell_type": "markdown",
   "metadata": {},
   "source": [
    "Q: compute the total flux from A to B, the mean first passage time and rate"
   ]
  },
  {
   "cell_type": "code",
   "execution_count": null,
   "metadata": {},
   "outputs": [],
   "source": [
    "#A\n",
    "print(tpt.mfpt)\n",
    "print(tpt.total_flux)\n",
    "print(tpt.rate)"
   ]
  },
  {
   "cell_type": "markdown",
   "metadata": {},
   "source": [
    "Q: Compute the pathway decomposition. How many pathways are needed to represent 90% of the total flux?"
   ]
  },
  {
   "cell_type": "code",
   "execution_count": null,
   "metadata": {},
   "outputs": [],
   "source": [
    "#A\n",
    "print(tpt.pathways())\n",
    "len(tpt.pathways(fraction=0.9)[0])"
   ]
  },
  {
   "cell_type": "markdown",
   "metadata": {},
   "source": [
    "Q: compute the implied time scales of the MSM `M` and select an appropriate number of macro states for PCCA.   \n",
    "Run the PCCA decompostion. After the PCCA composition, the set of PCCA clusters can be generated using `M.metastable_sets`"
   ]
  },
  {
   "cell_type": "code",
   "execution_count": null,
   "metadata": {},
   "outputs": [],
   "source": [
    "#A:\n",
    "print(M.timescales())\n",
    "M.pcca(4)\n",
    "pcca_clusters = M.metastable_sets\n",
    "print(pcca_clusters)"
   ]
  },
  {
   "cell_type": "markdown",
   "metadata": {},
   "source": [
    "Q: coase-grain the TPT flux to the PCCA clusters\n",
    "and plot the resulting net-flux"
   ]
  },
  {
   "cell_type": "code",
   "execution_count": null,
   "metadata": {},
   "outputs": [],
   "source": [
    "#A:\n",
    "(tpt_sets, tpt_coarse) = tpt.coarse_grain(pcca_clusters)\n",
    "pyemma.plots.plot_flux(tpt_coarse, attribute_to_plot='net_flux');"
   ]
  },
  {
   "cell_type": "code",
   "execution_count": null,
   "metadata": {},
   "outputs": [],
   "source": []
  }
 ],
 "metadata": {
  "anaconda-cloud": {},
  "kernelspec": {
   "display_name": "Python 3",
   "language": "python",
   "name": "python3"
  },
  "language_info": {
   "codemirror_mode": {
    "name": "ipython",
    "version": 3
   },
   "file_extension": ".py",
   "mimetype": "text/x-python",
   "name": "python",
   "nbconvert_exporter": "python",
   "pygments_lexer": "ipython3",
   "version": "3.6.1"
  }
 },
 "nbformat": 4,
 "nbformat_minor": 1
}
