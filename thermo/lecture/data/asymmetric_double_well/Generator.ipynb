{
 "cells": [
  {
   "cell_type": "markdown",
   "metadata": {},
   "source": [
    "# Generator notebook\n",
    "\n",
    "This notebook is purely to illustrate how the data in this directory is generated."
   ]
  },
  {
   "cell_type": "code",
   "execution_count": 3,
   "metadata": {
    "collapsed": true
   },
   "outputs": [],
   "source": [
    "import numpy as np"
   ]
  },
  {
   "cell_type": "markdown",
   "metadata": {},
   "source": [
    "## Definition of potential and simulation functions"
   ]
  },
  {
   "cell_type": "code",
   "execution_count": 4,
   "metadata": {
    "collapsed": true
   },
   "outputs": [],
   "source": [
    "# assymetric double well potential \n",
    "def potential(x):\n",
    "    return x - 2.0 - 3.0 * (x - 2.0)**2 + 0.5 * (x - 2.0)**4\n",
    "\n",
    "# gradient of the potential\n",
    "def gradient(x):\n",
    "    return 2.0 * x**3 - 12.0 * x**2 + 18.0 * x - 3.0\n",
    "\n",
    "# harmonic bias potential\n",
    "def bias_potential(x, k, x0):\n",
    "    return 0.5 * k * (x - x0)**2\n",
    "\n",
    "# gradient of the harmonic bias potential\n",
    "def bias_gradient(x, k, x0):\n",
    "    return k * (x - x0)"
   ]
  },
  {
   "cell_type": "code",
   "execution_count": 5,
   "metadata": {
    "collapsed": true
   },
   "outputs": [],
   "source": [
    "def new_temperature_idx(old_idx, epot, kTs, f):\n",
    "    new_idx = np.random.randint(kTs.shape[0])\n",
    "    delta = (1.0 / kTs[new_idx] - 1.0 / kTs[old_idx]) * epot - f[new_idx] + f[old_idx]\n",
    "    if delta <= 0.0:\n",
    "        return new_idx\n",
    "    elif np.random.rand() < np.exp(-delta):\n",
    "        return new_idx\n",
    "    else:\n",
    "        return old_idx\n",
    "    \n",
    "#Brownian Dynamics simulated tempering\n",
    "def bd_st(\n",
    "    x0, length_between_changes, number_of_changes, kTs, f,\n",
    "    temperature_idx=0, mass=1.0, damping=1.0, dt=0.005):\n",
    "    coeff_A = dt / (mass * damping)\n",
    "    coeff_B = np.sqrt(2.0 * dt * kTs[temperature_idx] / (mass * damping))\n",
    "    x = [x0]\n",
    "    kT = [kTs[temperature_idx]]\n",
    "    u = [potential(x0)]\n",
    "    for _i in range(number_of_changes):\n",
    "        for _j in range(length_between_changes):\n",
    "            x.append(x[-1] - coeff_A * gradient(x[-1]) + coeff_B * np.random.normal())\n",
    "            kT.append(kTs[temperature_idx])\n",
    "            u.append(potential(x[-1]))\n",
    "        temperature_idx = new_temperature_idx(temperature_idx, u[-1], kTs, f)\n",
    "        coeff_B = np.sqrt(2.0 * dt * kTs[temperature_idx] / (mass * damping))\n",
    "    conf_traj = np.array(x, dtype=np.float64).reshape((-1, 1))\n",
    "    temp_traj = np.array(kT, dtype=np.float64)\n",
    "    energy_traj = np.array(u, dtype=np.float64) / temp_traj\n",
    "    return conf_traj, temp_traj, energy_traj\n",
    "\n",
    "#Brownian Dynamics umbrella sampling\n",
    "def bd_us(\n",
    "    x0, length, k_bias, x0_bias,\n",
    "    mass=1.0, damping=1.0, dt=0.005, kT=1.0):\n",
    "    coeff_A = dt / (mass * damping)\n",
    "    coeff_B = np.sqrt(2.0 * dt * kT / (mass * damping))\n",
    "    x = [x0]\n",
    "    for _i in range(length):\n",
    "        x.append(\n",
    "            x[-1] - coeff_A * (gradient(x[-1]) + bias_gradient(x[-1], k_bias, x0_bias)) + coeff_B * np.random.normal())\n",
    "    xtraj = np.array(x, dtype=np.float64).reshape((-1, 1))\n",
    "    return xtraj"
   ]
  },
  {
   "cell_type": "markdown",
   "metadata": {},
   "source": [
    "## Generate simulated tempering data"
   ]
  },
  {
   "cell_type": "code",
   "execution_count": 6,
   "metadata": {
    "collapsed": false
   },
   "outputs": [],
   "source": [
    "# kT values to use\n",
    "kTs = np.array([1.0, 2.0, 3.5, 7.5], dtype=np.float64)\n",
    "\n",
    "# precalculated free energies of the thermodynamic states in kT\n",
    "f_therm = np.array([0.0, 2.58394215, 3.45680378, 3.91820844], dtype=np.float64)\n",
    "\n",
    "# generate and store trajectories\n",
    "for i in range(20):\n",
    "    conf_traj, temp_traj, energy_traj = bd_st(np.random.rand() * 5.0 - 0.5, 100, 99, kTs, f_therm)\n",
    "    np.save(\"multi_temperature/conf_traj_%03d.npy\" % i, conf_traj)\n",
    "    np.save(\"multi_temperature/temp_traj_%03d.npy\" % i, temp_traj)\n",
    "    np.save(\"multi_temperature/energy_traj_%03d.npy\" % i, energy_traj)"
   ]
  },
  {
   "cell_type": "markdown",
   "metadata": {},
   "source": [
    "# Generate umbrella sampling data"
   ]
  },
  {
   "cell_type": "code",
   "execution_count": null,
   "metadata": {
    "collapsed": true
   },
   "outputs": [],
   "source": [
    "# generate umbrella parameters\n",
    "n_umbrellas = 20\n",
    "independent_simulations_per_state = 5\n",
    "k_bias = np.ones(shape=(n_umbrellas,), dtype=np.float64) * 30.0\n",
    "x0_bias = np.zeros(shape=(n_umbrellas,), dtype=np.float64)\n",
    "x0_bias = np.linspace(-0.5, 4.5, n_umbrellas)\n",
    "length = 1000\n",
    "\n",
    "# generate and store umbrella sampling trajectories\n",
    "j = 0\n",
    "fh = open(\"umbrella_sampling/meta.dat\", 'w')\n",
    "fh.write(\"# index umbrella_center force_constant\\n\")\n",
    "for i in range(independent_simulations_per_state):\n",
    "    for K in range(n_umbrellas):\n",
    "        np.save(\"umbrella_sampling/us_traj_%03d.npy\" % j, bd_us(x0_bias[K], 1000, k_bias[K], x0_bias[K]))\n",
    "        fh.write(\"%7d %15.8f %14.8f\\n\" % (j, x0_bias[K], k_bias[K]))\n",
    "        j += 1\n",
    "fh.close()\n",
    "\n",
    "# generate and store unbiased trajectories\n",
    "for i in range(5):\n",
    "    np.save(\"umbrella_sampling/md_traj_%03d.npy\" % i, bd_us(np.random.rand() * 5.0 - 0.5, 20000, 0.0, 0.0))"
   ]
  }
 ],
 "metadata": {
  "kernelspec": {
   "display_name": "Python 2",
   "language": "python",
   "name": "python2"
  },
  "language_info": {
   "codemirror_mode": {
    "name": "ipython",
    "version": 2
   },
   "file_extension": ".py",
   "mimetype": "text/x-python",
   "name": "python",
   "nbconvert_exporter": "python",
   "pygments_lexer": "ipython2",
   "version": "2.7.11"
  }
 },
 "nbformat": 4,
 "nbformat_minor": 0
}
