{
 "cells": [
  {
   "cell_type": "markdown",
   "metadata": {},
   "source": [
    "# PyEMMA featurization example notebook\n",
    "## 0. Load MD data from FTP server\n",
    "Ingredients:\n",
    "- Topology file: PDB\n",
    "- Trajectory data: List of .DCD files"
   ]
  },
  {
   "cell_type": "code",
   "execution_count": null,
   "metadata": {},
   "outputs": [],
   "source": [
    "from mdshare import load"
   ]
  },
  {
   "cell_type": "code",
   "execution_count": null,
   "metadata": {},
   "outputs": [],
   "source": [
    "topfile = load('alanine-dipeptide-nowater.pdb', working_directory='data')\n",
    "traj_list = [load('alanine-dipeptide-%d-250ns-nowater.dcd' % i, working_directory='data') for i in range(3)]"
   ]
  },
  {
   "cell_type": "markdown",
   "metadata": {},
   "source": [
    "#### Import PyEMMA"
   ]
  },
  {
   "cell_type": "code",
   "execution_count": null,
   "metadata": {},
   "outputs": [],
   "source": [
    "import pyemma\n",
    "import numpy as np\n",
    "import matplotlib\n",
    "import matplotlib.pyplot as plt\n",
    "%matplotlib inline\n",
    "matplotlib.rcParams.update({'font.size': 16})"
   ]
  },
  {
   "cell_type": "markdown",
   "metadata": {},
   "source": [
    "## 1. Several ways of processing the same data\n",
    "### 1.1 Backbone torsions\n",
    "- The best possible discription\n",
    "- Two dimensions that discribe the full dynamics\n",
    "- A priori known"
   ]
  },
  {
   "cell_type": "code",
   "execution_count": null,
   "metadata": {},
   "outputs": [],
   "source": [
    "bbtorsion_feat = pyemma.coordinates.featurizer(topfile)\n",
    "bbtorsion_feat.add_backbone_torsions()"
   ]
  },
  {
   "cell_type": "code",
   "execution_count": null,
   "metadata": {},
   "outputs": [],
   "source": [
    "bbtorsions = pyemma.coordinates.load(traj_list, bbtorsion_feat)"
   ]
  },
  {
   "cell_type": "code",
   "execution_count": null,
   "metadata": {},
   "outputs": [],
   "source": [
    "pyemma.plots.plot_free_energy(np.concatenate(bbtorsions)[:, 0], np.concatenate(bbtorsions)[:, 1])\n",
    "plt.xlabel('$\\Phi$ / rad') \n",
    "plt.ylabel('$\\Psi$ / rad');"
   ]
  },
  {
   "cell_type": "markdown",
   "metadata": {},
   "source": [
    "### 1.2 heavy atom distances\n",
    "- without prior knowledge usually a good choice\n",
    "- very high dimensional even for this system"
   ]
  },
  {
   "cell_type": "code",
   "execution_count": null,
   "metadata": {},
   "outputs": [],
   "source": [
    "heavy_atom_dist_feat = pyemma.coordinates.featurizer(topfile)\n",
    "heavy_atom_indices = heavy_atom_dist_feat.select_Heavy()"
   ]
  },
  {
   "cell_type": "code",
   "execution_count": null,
   "metadata": {},
   "outputs": [],
   "source": [
    "print(heavy_atom_indices)"
   ]
  },
  {
   "cell_type": "code",
   "execution_count": null,
   "metadata": {},
   "outputs": [],
   "source": [
    "heavy_atom_dist_feat.add_distances(heavy_atom_indices, periodic=False)"
   ]
  },
  {
   "cell_type": "code",
   "execution_count": null,
   "metadata": {},
   "outputs": [],
   "source": [
    "heavy_atom_dist_feat.dimension()"
   ]
  },
  {
   "cell_type": "code",
   "execution_count": null,
   "metadata": {},
   "outputs": [],
   "source": [
    "heavy_atom_distances = pyemma.coordinates.load(traj_list, heavy_atom_dist_feat)"
   ]
  },
  {
   "cell_type": "code",
   "execution_count": null,
   "metadata": {},
   "outputs": [],
   "source": [
    "fig, ax = plt.subplots(figsize=(10, 15))\n",
    "for h, coordinate in enumerate(np.concatenate(heavy_atom_distances).T):\n",
    "    hist, edges = np.histogram(coordinate, bins=50)\n",
    "    y = hist / np.max(hist)\n",
    "    ax.fill_between(edges[:-1], y + h - .2, color='b', y2=h - .2, alpha=.25)\n",
    "\n",
    "    ax.axhline(y=h - .2, xmin=0, xmax=1, color='k', linewidth=.2)\n",
    "\n",
    "ax.set_yticks(np.array(range(heavy_atom_dist_feat.dimension()))+.3)\n",
    "ax.set_yticklabels(heavy_atom_dist_feat.describe());\n",
    "ax.set_xlabel('heavy atom distance');\n",
    "ax.set_title('distance histograms per dimension (normalized)');"
   ]
  },
  {
   "cell_type": "markdown",
   "metadata": {},
   "source": [
    "#### 1.2.1 TICA projection of heavy atom distances"
   ]
  },
  {
   "cell_type": "code",
   "execution_count": null,
   "metadata": {},
   "outputs": [],
   "source": [
    "tica = pyemma.coordinates.tica(heavy_atom_distances)"
   ]
  },
  {
   "cell_type": "code",
   "execution_count": null,
   "metadata": {},
   "outputs": [],
   "source": [
    "tica.dimension()"
   ]
  },
  {
   "cell_type": "code",
   "execution_count": null,
   "metadata": {},
   "outputs": [],
   "source": [
    "tics = tica.get_output()"
   ]
  },
  {
   "cell_type": "code",
   "execution_count": null,
   "metadata": {
    "scrolled": true
   },
   "outputs": [],
   "source": [
    "pyemma.plots.plot_free_energy(np.concatenate(tics)[:, 0], np.concatenate(tics)[:, 1])\n",
    "plt.xlabel('TIC 1') \n",
    "plt.ylabel('TIC 2');"
   ]
  },
  {
   "cell_type": "markdown",
   "metadata": {},
   "source": [
    "#### 1.2.1 PCA projection of heavy atom distances"
   ]
  },
  {
   "cell_type": "code",
   "execution_count": null,
   "metadata": {},
   "outputs": [],
   "source": [
    "pca = pyemma.coordinates.pca(heavy_atom_distances, var_cutoff=.9)"
   ]
  },
  {
   "cell_type": "code",
   "execution_count": null,
   "metadata": {},
   "outputs": [],
   "source": [
    "pca.dimension()"
   ]
  },
  {
   "cell_type": "code",
   "execution_count": null,
   "metadata": {},
   "outputs": [],
   "source": [
    "pcs = pca.get_output()"
   ]
  },
  {
   "cell_type": "code",
   "execution_count": null,
   "metadata": {},
   "outputs": [],
   "source": [
    "pyemma.plots.plot_free_energy(np.concatenate(pcs)[:, 0], np.concatenate(pcs)[:, 1])\n",
    "plt.xlabel('IC 1') \n",
    "plt.ylabel('IC 2');"
   ]
  },
  {
   "cell_type": "code",
   "execution_count": null,
   "metadata": {},
   "outputs": [],
   "source": [
    "fig, axes = plt.subplots(1, 3, figsize=(15, 4))\n",
    "t = ['backbone torsions', 'TICs', 'PCs']\n",
    "for n, _y in enumerate([bbtorsions, tics, pcs]):\n",
    "    pyemma.plots.plot_free_energy(np.concatenate(_y)[:, 0], np.concatenate(_y)[:, 1], ax=axes[n], cbar=False)\n",
    "    axes[n].set_title(t[n])\n"
   ]
  },
  {
   "cell_type": "markdown",
   "metadata": {},
   "source": [
    "## Different ways of discretizing the output\n",
    "### 3. clustering\n",
    "#### 3.1 k-means"
   ]
  },
  {
   "cell_type": "code",
   "execution_count": null,
   "metadata": {},
   "outputs": [],
   "source": [
    "y = bbtorsions\n",
    "clustering_kmeans = pyemma.coordinates.cluster_kmeans(y, k=75, stride=10, max_iter=30)"
   ]
  },
  {
   "cell_type": "code",
   "execution_count": null,
   "metadata": {},
   "outputs": [],
   "source": [
    "plt.plot(*clustering_kmeans.clustercenters.T, 'ko')\n",
    "pyemma.plots.plot_free_energy(*np.concatenate(y).T)\n",
    "plt.xlabel('$\\Phi$ / rad') \n",
    "plt.ylabel('$\\Psi$ / rad');"
   ]
  },
  {
   "cell_type": "markdown",
   "metadata": {},
   "source": [
    "#### 3.2 regular space clustering"
   ]
  },
  {
   "cell_type": "code",
   "execution_count": null,
   "metadata": {},
   "outputs": [],
   "source": [
    "clustering_regspace = pyemma.coordinates.cluster_regspace(y, dmin=.4)\n",
    "clustering_regspace.n_clusters"
   ]
  },
  {
   "cell_type": "code",
   "execution_count": null,
   "metadata": {},
   "outputs": [],
   "source": [
    "plt.plot(*clustering_regspace.clustercenters.T, 'ko')\n",
    "pyemma.plots.plot_free_energy(*np.concatenate(y).T)\n",
    "plt.xlabel('$\\Phi$ / rad') \n",
    "plt.ylabel('$\\Psi$ / rad');"
   ]
  },
  {
   "cell_type": "markdown",
   "metadata": {},
   "source": [
    "### 3.3 discrete trajectories"
   ]
  },
  {
   "cell_type": "code",
   "execution_count": null,
   "metadata": {},
   "outputs": [],
   "source": [
    "dtrajs = clustering_kmeans.dtrajs"
   ]
  },
  {
   "cell_type": "code",
   "execution_count": null,
   "metadata": {},
   "outputs": [],
   "source": [
    "fig, ax = plt.subplots(2, 1, figsize=(15, 8), sharex=True)\n",
    "b, e = 20400, 21100\n",
    "ax[0].plot(y[0][b:e, 0], alpha=.75, label='$\\Phi$')\n",
    "ax[0].plot(y[0][b:e, 1], alpha=.75, label='$\\Psi$')\n",
    "ax[0].set_ylabel('backbone torsion angles')\n",
    "ax[0].legend()\n",
    "ax[1].step(range(dtrajs[0][b:e].shape[0]), dtrajs[0][b:e])\n",
    "ax[1].set_xlabel('time (steps)')\n",
    "ax[1].set_ylabel('state')\n",
    "fig.tight_layout()"
   ]
  },
  {
   "cell_type": "code",
   "execution_count": null,
   "metadata": {},
   "outputs": [],
   "source": [
    "print(dtrajs[0][:25])"
   ]
  },
  {
   "cell_type": "markdown",
   "metadata": {},
   "source": [
    "## A quick MSM estimate to check our work"
   ]
  },
  {
   "cell_type": "code",
   "execution_count": null,
   "metadata": {
    "scrolled": false
   },
   "outputs": [],
   "source": [
    "fig, axes = plt.subplots(3, 3, figsize=(15, 13))\n",
    "t = ['backbone torsions', 'TICs', 'PCs']\n",
    "for n, _y in enumerate([bbtorsions, tics, pcs]):\n",
    "    pyemma.plots.plot_free_energy(*np.concatenate(_y).T, ax=axes[0][n], cbar=False)\n",
    "    axes[0][n].set_title(t[n], fontweight='bold')\n",
    "    \n",
    "    cl_objs = [pyemma.coordinates.cluster_kmeans(_y, k=75, max_iter=30, stride=100),\n",
    "               pyemma.coordinates.cluster_regspace(_y, dmin=.4 if n==0 else .4/(2.2*n), stride=100)]\n",
    "    for cl_n, cl_obj in enumerate(cl_objs):\n",
    "        axes[0][n].plot(*cl_obj.clustercenters.T, 'ko' if cl_n == 0 else 'rs', alpha=.8)\n",
    "        its = pyemma.msm.its(cl_obj.dtrajs, lags=[1, 2, 4, 6, 8])\n",
    "        pyemma.plots.plot_implied_timescales(its, ax=axes[cl_n+1][n])\n",
    "        axes[cl_n+1][n].set_ylim(1e-1, 3e3)\n",
    "        axes[cl_n+1][n].set_ylabel('')\n",
    "axes[1][0].set_ylabel('k-means clustering', fontweight='bold')\n",
    "axes[2][0].set_ylabel('regspace clustering', fontweight='bold')\n",
    "fig.tight_layout()"
   ]
  },
  {
   "cell_type": "code",
   "execution_count": null,
   "metadata": {},
   "outputs": [],
   "source": []
  }
 ],
 "metadata": {
  "kernelspec": {
   "display_name": "Python 3",
   "language": "python",
   "name": "python3"
  },
  "language_info": {
   "codemirror_mode": {
    "name": "ipython",
    "version": 3
   },
   "file_extension": ".py",
   "mimetype": "text/x-python",
   "name": "python",
   "nbconvert_exporter": "python",
   "pygments_lexer": "ipython3",
   "version": "3.6.1"
  }
 },
 "nbformat": 4,
 "nbformat_minor": 2
}
