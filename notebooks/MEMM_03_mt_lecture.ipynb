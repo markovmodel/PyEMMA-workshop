{
 "cells": [
  {
   "cell_type": "code",
   "execution_count": null,
   "metadata": {},
   "outputs": [],
   "source": [
    "from __future__ import print_function\n",
    "%matplotlib inline\n",
    "import matplotlib as mpl\n",
    "import matplotlib.pyplot as plt\n",
    "import numpy as np\n",
    "import pyemma\n",
    "import mdshare\n",
    "\n",
    "# import some functions which should not clutter the notebook\n",
    "import shortcuts_thermo as shortcuts\n",
    "\n",
    "# figure size parameters\n",
    "pw = 6\n",
    "ph = 0.75 * pw"
   ]
  },
  {
   "cell_type": "markdown",
   "metadata": {},
   "source": [
    "# Example - one-dimensional asymmetric double well potential\n",
    "\n",
    "We start by looking at the stationary distribution and free energy profile which are available analytically."
   ]
  },
  {
   "cell_type": "code",
   "execution_count": null,
   "metadata": {},
   "outputs": [],
   "source": [
    "adw_x, adw_f, adw_pi = shortcuts.adw_reference(-1, 5, 100)\n",
    "\n",
    "fig, ax = plt.subplots(1, 2, figsize=(2 * pw, ph))\n",
    "ax[0].plot(adw_x, adw_pi, linewidth=3, color='black')\n",
    "ax[0].set_ylabel(r\"$\\pi(x)$\", fontsize=20)\n",
    "ax[0].semilogy()\n",
    "ax[1].plot(adw_x, adw_f, linewidth=3, color='black')\n",
    "ax[1].set_ylabel(r\"$f(x)$ / kT\", fontsize=20)\n",
    "for _ax in ax:\n",
    "    _ax.set_xlabel(r\"$x$ / a.u.\", fontsize=20)\n",
    "    _ax.tick_params(labelsize=15)\n",
    "fig.tight_layout()"
   ]
  },
  {
   "cell_type": "markdown",
   "metadata": {},
   "source": [
    "## Multi-temperature (simulated tempering data)\n",
    "\n",
    "\n",
    "$$b^{(i)}(\\mathbf{x}) = \\left( \\frac{1}{\\text{k}_\\text{B} T^{(i)}} - \\frac{1}{\\text{k}_\\text{B} T^{\\circ}} \\right) U(\\mathbf{x}) = \\left( \\frac{1}{\\text{k}_\\text{B} T^{(i)}} - \\frac{1}{\\text{k}_\\text{B} T^{\\circ}} \\right) \\text{k}_\\text{B} T^{(j)} u^{(j)}(\\mathbf{x})$$\n",
    "\n",
    "Let's plot the stationary distributions and free energy profiles for four different kT values:"
   ]
  },
  {
   "cell_type": "code",
   "execution_count": null,
   "metadata": {},
   "outputs": [],
   "source": [
    "fig, ax = plt.subplots(1, 2, figsize=(2 * pw, ph))\n",
    "# plot the thermodynamic ground/unbiased state (kT=1.0)\n",
    "ax[0].plot(adw_x, adw_pi, linewidth=3, color='black', label='kT=1.0')\n",
    "ax[1].plot(adw_x, adw_f, linewidth=3, color='black', label='kT=1.0')\n",
    "# plot the kT=2.0 case\n",
    "_, adw_f2, adw_pi2 = shortcuts.adw_reference(adw_x[0], adw_x[-1], adw_x.shape[0], kT=2.0)\n",
    "ax[0].plot(adw_x, adw_pi2, linewidth=3, color='blue', label='kT=2.0')\n",
    "ax[1].plot(adw_x, adw_f2, linewidth=3, color='blue', label='kT=2.0')\n",
    "# plot the kT=3.5 case\n",
    "_, adw_f2, adw_pi2 = shortcuts.adw_reference(adw_x[0], adw_x[-1], adw_x.shape[0], kT=3.5)\n",
    "ax[0].plot(adw_x, adw_pi2, linewidth=3, color='green', label='kT=3.5')\n",
    "ax[1].plot(adw_x, adw_f2, linewidth=3, color='green', label='kT=3.5')\n",
    "# plot the kT=7.5 case\n",
    "_, adw_f2, adw_pi2 = shortcuts.adw_reference(adw_x[0], adw_x[-1], adw_x.shape[0], kT=7.5)\n",
    "ax[0].plot(adw_x, adw_pi2, linewidth=3, color='red', label='kT=7.5')\n",
    "ax[1].plot(adw_x, adw_f2, linewidth=3, color='red', label='kT=7.5')\n",
    "# finish the figure\n",
    "ax[0].set_ylabel(r\"$\\pi^{(j)}(x)$\", fontsize=20)\n",
    "ax[0].semilogy()\n",
    "ax[0].legend(loc=8, fontsize=12, fancybox=True, framealpha=0.5)\n",
    "ax[1].set_ylabel(r\"$f^{(j)}(x) - f^{(j)}$ / kT\", fontsize=20)\n",
    "ax[1].legend(loc=9, fontsize=12, fancybox=True, framealpha=0.5)\n",
    "for _ax in ax:\n",
    "    _ax.set_xlabel(r\"$x$ / a.u.\", fontsize=20)\n",
    "    _ax.tick_params(labelsize=15)\n",
    "fig.tight_layout()"
   ]
  },
  {
   "cell_type": "markdown",
   "metadata": {},
   "source": [
    "``pyemma.thermo`` provides an API function for this simulation type:\n",
    "\n",
    "```python\n",
    "def estimate_multi_temperature(\n",
    "    energy_trajs, temp_trajs, dtrajs,\n",
    "    energy_unit='kcal/mol', temp_unit='K', reference_temperature=None,\n",
    "    maxiter=10000, maxerr=1.0E-15, save_convergence_info=0,\n",
    "    estimator='wham', lag=1, dt_traj='1 step', init=None):\n",
    "    ...\n",
    "```\n",
    "\n",
    "First step: import the data from 20 precomputed trajectories..."
   ]
  },
  {
   "cell_type": "code",
   "execution_count": null,
   "metadata": {},
   "outputs": [],
   "source": [
    "with np.load(mdshare.load('pyemma-tutorial-mt-data.npz', working_directory='data')) as fh:\n",
    "    adw_st_conf_trajs = [fh['conf_traj_%03d.npy' % i] for i in range(20)]\n",
    "    adw_st_temp_trajs = [fh['temp_traj_%03d.npy' % i] for i in range(20)]\n",
    "    adw_st_energy_trajs = [fh['energy_traj_%03d.npy' % i] for i in range(20)]"
   ]
  },
  {
   "cell_type": "markdown",
   "metadata": {},
   "source": [
    "For one trajectory, plot all three types of data."
   ]
  },
  {
   "cell_type": "code",
   "execution_count": null,
   "metadata": {},
   "outputs": [],
   "source": [
    "adw_st_index = 4\n",
    "fig, ax = plt.subplots(3, 1, figsize=(2 * pw, 3 * ph), sharex=True)\n",
    "ax[0].plot(adw_st_conf_trajs[adw_st_index][:, 0], '-x')\n",
    "ax[1].plot(adw_st_temp_trajs[adw_st_index], '-x')\n",
    "ax[2].plot(adw_st_energy_trajs[adw_st_index], '-x')\n",
    "ax[2].set_xlabel(r\"time / steps\", fontsize=20)\n",
    "ax[0].set_ylabel(r\"configuration state / a.u.\", fontsize=20)\n",
    "ax[1].set_ylabel(r\"heat bath / kT\", fontsize=20)\n",
    "ax[2].set_ylabel(r\"energy / kT\", fontsize=20)\n",
    "for _ax in ax:\n",
    "    _ax.tick_params(labelsize=15)\n",
    "fig.tight_layout()"
   ]
  },
  {
   "cell_type": "markdown",
   "metadata": {},
   "source": [
    "Second step: run a clustering algorithm on the configuration trajectories..."
   ]
  },
  {
   "cell_type": "code",
   "execution_count": null,
   "metadata": {},
   "outputs": [],
   "source": [
    "adw_st_cluster = pyemma.coordinates.cluster_regspace(adw_st_conf_trajs, max_centers=500, dmin=0.2)"
   ]
  },
  {
   "cell_type": "markdown",
   "metadata": {},
   "source": [
    "Third step: run ``WHAM`` and ``dTRAM`` estimations using the ``estimate_multi_temperature`` API function..."
   ]
  },
  {
   "cell_type": "code",
   "execution_count": null,
   "metadata": {},
   "outputs": [],
   "source": [
    "adw_st_estimator = pyemma.thermo.estimate_multi_temperature(\n",
    "    adw_st_energy_trajs, adw_st_temp_trajs, adw_st_cluster.dtrajs,\n",
    "    energy_unit='kT', temp_unit='kT',\n",
    "    maxiter=10000, maxerr=1.0E-14, save_convergence_info=1, estimator='dtram')"
   ]
  },
  {
   "cell_type": "code",
   "execution_count": null,
   "metadata": {},
   "outputs": [],
   "source": [
    "pyemma.plots.plot_convergence_info(adw_st_estimator)"
   ]
  },
  {
   "cell_type": "markdown",
   "metadata": {},
   "source": [
    "Fourth step: plot the free energies ``f`` and ``f_therm``..."
   ]
  },
  {
   "cell_type": "code",
   "execution_count": null,
   "metadata": {},
   "outputs": [],
   "source": [
    "adw_st_x, adw_st_f = shortcuts.adw_match_reference_to_binning(adw_st_conf_trajs, adw_st_cluster.clustercenters)\n",
    "\n",
    "fig, ax = plt.subplots(1, 2, figsize=(2 * pw, ph))\n",
    "ax[0].plot(\n",
    "    adw_st_cluster.clustercenters[adw_st_estimator.active_set, 0], adw_st_estimator.f, 's', markersize=10, label=adw_st_estimator.name)\n",
    "ax[0].plot(adw_st_x, adw_st_f, '-*', linewidth=2, markersize=9, color='black', label='Reference')\n",
    "ax[0].set_xlabel(r\"configuration state\", fontsize=20)\n",
    "ax[0].set_ylabel(r\"f / kT\", fontsize=20)\n",
    "ax[0].legend(loc=0, fontsize=10, fancybox=True, framealpha=0.5)\n",
    "ax[1].plot(adw_st_estimator.temperatures, adw_st_estimator.f_therm, 's', markersize=10, label=adw_st_estimator.name)\n",
    "ax[1].set_ylabel(r\"f_therm / kT\", fontsize=20)\n",
    "ax[1].legend(loc=4, fontsize=10, fancybox=True, framealpha=0.5)\n",
    "ax[1].set_xlabel(r\"kT\", fontsize=20)\n",
    "for _ax in ax:\n",
    "    _ax.tick_params(labelsize=15)\n",
    "fig.tight_layout()"
   ]
  },
  {
   "cell_type": "markdown",
   "metadata": {},
   "source": [
    "Plot the stationay distribution of the thermodynamic ground state."
   ]
  },
  {
   "cell_type": "code",
   "execution_count": null,
   "metadata": {},
   "outputs": [],
   "source": [
    "plt.figure(figsize=(pw, ph))\n",
    "plt.plot(\n",
    "    adw_st_cluster.clustercenters[adw_st_estimator.active_set, 0], adw_st_estimator.pi, 's', markersize=10)\n",
    "plt.xlabel(r\"configuration state\", fontsize=20)\n",
    "plt.ylabel(r\"pi\", fontsize=20)\n",
    "plt.ylim([1.0E-11, 1.0])\n",
    "plt.yscale('log')"
   ]
  },
  {
   "cell_type": "markdown",
   "metadata": {},
   "source": [
    "Last step: obtain some kinetic information.\n",
    "In this case, we run ``PCCA`` on the ``MSM`` of the thermodynamic ground state and compute mean first passage times between the two metastable sets..."
   ]
  },
  {
   "cell_type": "code",
   "execution_count": null,
   "metadata": {},
   "outputs": [],
   "source": [
    "# The MSM of the unbiased ensemble can be accessed via dtram_estiamtor.msm\n",
    "unbiased_msm = adw_st_estimator.msm\n",
    "\n",
    "# We can do all the usual MSM analyses now, e. g. coarse-graining with PCCA and computing MFPTs.\n",
    "pcca = unbiased_msm.pcca(2)\n",
    "\n",
    "print(\"MFPT[blue->green] = %7.1f steps\" %  unbiased_msm.mfpt(pcca.metastable_sets[0], pcca.metastable_sets[1]))\n",
    "print(\"MFPT[green->blue] = %7.1f steps\" %  unbiased_msm.mfpt(pcca.metastable_sets[1], pcca.metastable_sets[0]))\n",
    "\n",
    "plt.plot(adw_st_x, adw_st_f, '-*', linewidth=2, markersize=9, color='black')\n",
    "plt.scatter(\n",
    "    adw_st_cluster.clustercenters[unbiased_msm.active_set, 0],\n",
    "    -np.log(unbiased_msm.stationary_distribution[unbiased_msm.active_set]),\n",
    "    s=120, c=pcca.metastable_assignment, cmap=mpl.cm.brg)\n",
    "\n",
    "plt.xlabel(r\"configuration state\", fontsize=20)\n",
    "plt.ylabel(r\"f / kT\", fontsize=20)\n",
    "plt.tick_params(labelsize=15)\n",
    "plt.xlim([-1, 5])\n",
    "plt.ylim([0, 12])"
   ]
  },
  {
   "cell_type": "code",
   "execution_count": null,
   "metadata": {},
   "outputs": [],
   "source": []
  }
 ],
 "metadata": {
  "kernelspec": {
   "display_name": "Python 3",
   "language": "python",
   "name": "python3"
  },
  "language_info": {
   "codemirror_mode": {
    "name": "ipython",
    "version": 3
   },
   "file_extension": ".py",
   "mimetype": "text/x-python",
   "name": "python",
   "nbconvert_exporter": "python",
   "pygments_lexer": "ipython3",
   "version": "3.6.1"
  },
  "widgets": {
   "state": {
    "9ae68ce602b741329d88dacb0bae770c": {
     "views": [
      {
       "cell_index": 12
      }
     ]
    }
   },
   "version": "1.2.0"
  }
 },
 "nbformat": 4,
 "nbformat_minor": 1
}
