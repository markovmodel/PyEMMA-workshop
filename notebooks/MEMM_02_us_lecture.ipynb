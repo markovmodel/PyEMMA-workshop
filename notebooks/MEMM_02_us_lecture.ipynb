{
 "cells": [
  {
   "cell_type": "code",
   "execution_count": null,
   "metadata": {},
   "outputs": [],
   "source": [
    "from __future__ import print_function\n",
    "%matplotlib inline\n",
    "import matplotlib as mpl\n",
    "import matplotlib.pyplot as plt\n",
    "import numpy as np\n",
    "import pyemma\n",
    "import pyemma.thermo.util\n",
    "import mdshare\n",
    "\n",
    "# import some functions which should not clutter the notebook\n",
    "import shortcuts_thermo as shortcuts\n",
    "\n",
    "# figure size parameters\n",
    "pw = 6\n",
    "ph = 0.75 * pw"
   ]
  },
  {
   "cell_type": "markdown",
   "metadata": {},
   "source": [
    "## Umbrella sampling simulations\n",
    "\n",
    "The bias is computed via a harmonic potential based on the deviation of a frame from a reference structure. In the usual one-dimensional case, this reads\n",
    "\n",
    "$$b^{(i)}(\\mathbf{x}) = \\frac{k^{(i)}}{2} \\left\\Vert \\mathbf{x} - \\mathbf{x}^{(i)} \\right\\Vert^2.$$\n",
    "\n",
    "In the more general case, though, one can use a non-symmetric force matrix:\n",
    "\n",
    "$$b^{(i)}(\\mathbf{x}) = \\frac{1}{2} \\left\\langle \\mathbf{x} - \\mathbf{x}^{(i)} \\middle\\vert \\mathbf{k}^{(i)} \\middle\\vert \\mathbf{x} - \\mathbf{x}^{(i)} \\right\\rangle.$$\n",
    "\n",
    "## API functions for umbrella sampling\n",
    "\n",
    "For these simulation types, the `pyemma.thermo` module provides the API functions\n",
    "\n",
    "```python\n",
    "def estimate_umbrella_sampling(\n",
    "    us_trajs, us_dtrajs, us_centers, us_force_constants,\n",
    "    md_trajs=None, md_dtrajs=None, kT=None,\n",
    "    maxiter=10000, maxerr=1.0E-15, save_convergence_info=0,\n",
    "    estimator='wham', lag=1, dt_traj='1 step', init=None):\n",
    "    ...\n",
    "\n",
    "```"
   ]
  },
  {
   "cell_type": "markdown",
   "metadata": {},
   "source": [
    "# Example Model 1: one-dimensional asymmetric double well potential\n",
    "\n",
    "We start by looking at the stationary distribution and free energy profile which are available analytically."
   ]
  },
  {
   "cell_type": "code",
   "execution_count": null,
   "metadata": {},
   "outputs": [],
   "source": [
    "adw_x, adw_f, adw_pi = shortcuts.adw_reference(-1, 5, 100)\n",
    "\n",
    "fig, ax = plt.subplots(1, 2, figsize=(2 * pw, ph))\n",
    "ax[0].plot(adw_x, adw_pi, linewidth=3, color='black')\n",
    "ax[0].set_ylabel(r\"$\\pi(x)$\", fontsize=20)\n",
    "ax[0].semilogy()\n",
    "ax[1].plot(adw_x, adw_f, linewidth=3, color='black')\n",
    "ax[1].set_ylabel(r\"$f(x)$ / kT\", fontsize=20)\n",
    "for _ax in ax:\n",
    "    _ax.set_xlabel(r\"$x$ / a.u.\", fontsize=20)\n",
    "    _ax.tick_params(labelsize=15)\n",
    "fig.tight_layout()"
   ]
  },
  {
   "cell_type": "code",
   "execution_count": null,
   "metadata": {},
   "outputs": [],
   "source": [
    "fig, ax = plt.subplots(1, 2, figsize=(2 * pw, ph))\n",
    "# plot the thermodynamic ground/unbiased state (kT=1.0)\n",
    "ax[0].plot(adw_x, adw_pi, linewidth=3, color='black', label='unbiased')\n",
    "ax[1].plot(adw_x, adw_f, linewidth=3, color='black', label='unbiased')\n",
    "# plot the sixth umbrella\n",
    "_, adw_f2, adw_pi2 = shortcuts.adw_reference(adw_x[0], adw_x[-1], adw_x.shape[0], k_bias=30.0, x_bias=1.07894737)\n",
    "ax[0].plot(adw_x, adw_pi2, linewidth=3, color='blue', label='umbrella 6')\n",
    "ax[1].plot(adw_x, adw_f2, linewidth=3, color='blue', label='umbrella 6')\n",
    "# plot the 10th umbrella\n",
    "_, adw_f2, adw_pi2 = shortcuts.adw_reference(adw_x[0], adw_x[-1], adw_x.shape[0], k_bias=30.0, x_bias=2.13157895)\n",
    "ax[0].plot(adw_x, adw_pi2, linewidth=3, color='green', label='umbrella 10')\n",
    "ax[1].plot(adw_x, adw_f2, linewidth=3, color='green', label='umbrella 10')\n",
    "# plot the 14th umbrella\n",
    "_, adw_f2, adw_pi2 = shortcuts.adw_reference(adw_x[0], adw_x[-1], adw_x.shape[0], k_bias=30.0, x_bias=3.18421053)\n",
    "ax[0].plot(adw_x, adw_pi2, linewidth=3, color='red', label='umbrella 14')\n",
    "ax[1].plot(adw_x, adw_f2, linewidth=3, color='red', label='umbrella 14')\n",
    "# finish the figure\n",
    "ax[0].set_ylabel(r\"$\\pi^{(j)}(x)$\", fontsize=20)\n",
    "ax[0].semilogy()\n",
    "ax[0].set_ylim([1.0E-10, 1.0])\n",
    "ax[0].legend(loc=3, fontsize=12, fancybox=True, framealpha=0.5)\n",
    "ax[1].set_ylabel(r\"$f^{(j)}(x) - f^{(j)}$ / kT\", fontsize=20)\n",
    "ax[1].set_ylim([0.0, 30.0])\n",
    "ax[1].legend(loc=2, fontsize=12, fancybox=True, framealpha=0.5)\n",
    "for _ax in ax:\n",
    "    _ax.set_xlabel(r\"$x$ / a.u.\", fontsize=20)\n",
    "    _ax.tick_params(labelsize=15)\n",
    "fig.tight_layout()"
   ]
  },
  {
   "cell_type": "markdown",
   "metadata": {},
   "source": [
    "\n",
    "First step: import the data from 100 precomputed umbrella sampling trajectories as listed in the file ``meta.dat``..."
   ]
  },
  {
   "cell_type": "code",
   "execution_count": null,
   "metadata": {},
   "outputs": [],
   "source": [
    "with np.load(mdshare.load('pyemma-tutorial-us-data.npz', working_directory='data')) as fh:\n",
    "    # load biased data\n",
    "    adw_us_trajs = [fh['us_traj_%03d.npy' % i] for i in range(100)]\n",
    "    adw_us_umbrella_centers = fh['umbrella_centers'].tolist()\n",
    "    adw_us_force_constants = fh['force_constants'].tolist()\n",
    "    # load unbiased data\n",
    "    adw_md_trajs = [fh['md_traj_%03d.npy' % i] for i in range(5)]"
   ]
  },
  {
   "cell_type": "code",
   "execution_count": null,
   "metadata": {},
   "outputs": [],
   "source": [
    "print(len(adw_us_trajs))\n",
    "print(len(adw_us_umbrella_centers))\n",
    "print(len(adw_us_force_constants))"
   ]
  },
  {
   "cell_type": "markdown",
   "metadata": {},
   "source": [
    "Second step: run a clustering algorithm on the configuration trajectories to define the bins\n",
    "(and to compute the bin counts later on)."
   ]
  },
  {
   "cell_type": "code",
   "execution_count": null,
   "metadata": {},
   "outputs": [],
   "source": [
    "adw_us_cluster = pyemma.coordinates.cluster_regspace(adw_us_trajs, max_centers=500, dmin=0.2)"
   ]
  },
  {
   "cell_type": "markdown",
   "metadata": {},
   "source": [
    "Third step: run ``WHAM``  estimations using the ``estimate_umbrella_sampling`` API function and plot the convergence info..."
   ]
  },
  {
   "cell_type": "code",
   "execution_count": null,
   "metadata": {},
   "outputs": [],
   "source": [
    "adw_us_estimator = pyemma.thermo.estimate_umbrella_sampling(\n",
    "    adw_us_trajs, adw_us_cluster.dtrajs, adw_us_umbrella_centers, adw_us_force_constants,\n",
    "    maxiter=100000, maxerr=1.0E-15, save_convergence_info=50, estimator='wham')"
   ]
  },
  {
   "cell_type": "code",
   "execution_count": null,
   "metadata": {},
   "outputs": [],
   "source": [
    "pyemma.plots.plot_convergence_info(adw_us_estimator)"
   ]
  },
  {
   "cell_type": "markdown",
   "metadata": {},
   "source": [
    "Fourth step: plot the free energies ``f`` and ``f_therm``..."
   ]
  },
  {
   "cell_type": "code",
   "execution_count": null,
   "metadata": {},
   "outputs": [],
   "source": [
    "adw_us_x, adw_us_f = shortcuts.adw_match_reference_to_binning(adw_us_trajs, adw_us_cluster.clustercenters)\n",
    "\n",
    "fig, ax = plt.subplots(1, 2, figsize=(2 * pw, ph))\n",
    "ax[0].plot(\n",
    "    adw_us_cluster.clustercenters[adw_us_estimator.active_set, 0], adw_us_estimator.f, 's', markersize=10, label=adw_us_estimator.name)\n",
    "ax[0].plot(adw_us_x, adw_us_f, '-*', linewidth=2, markersize=9, color='black', label='Reference')\n",
    "ax[0].set_xlabel(r\"configuration state\", fontsize=20)\n",
    "ax[0].set_ylabel(r\"f / kT\", fontsize=20)\n",
    "ax[1].plot(adw_us_estimator.umbrella_centers[:, 0], adw_us_estimator.f_therm, 's', markersize=10, label=adw_us_estimator.name)\n",
    "ax[1].set_xlabel(r\"umbrella_center\", fontsize=20)\n",
    "ax[1].set_ylabel(r\"f_therm / kT\", fontsize=20)\n",
    "for _ax in ax:\n",
    "    _ax.tick_params(labelsize=15)\n",
    "    _ax.set_ylim([0, 12])\n",
    "    _ax.legend(loc=4, fontsize=10, fancybox=True, framealpha=0.5)\n",
    "fig.tight_layout()"
   ]
  },
  {
   "cell_type": "markdown",
   "metadata": {},
   "source": [
    "# Mixed simulations data: US simulations + unbiased simulations"
   ]
  },
  {
   "cell_type": "code",
   "execution_count": null,
   "metadata": {},
   "outputs": [],
   "source": [
    "# redo clustering with both, biased and unbiased data\n",
    "adw_us_cluster = pyemma.coordinates.cluster_regspace(adw_us_trajs + adw_md_trajs, max_centers=500, dmin=0.2)\n",
    "\n",
    "# split dtrajs into biased and unbiased\n",
    "adw_us_dtrajs = adw_us_cluster.dtrajs[:len(adw_us_trajs)]\n",
    "adw_md_dtrajs = adw_us_cluster.dtrajs[len(adw_us_trajs):]"
   ]
  },
  {
   "cell_type": "code",
   "execution_count": null,
   "metadata": {},
   "outputs": [],
   "source": [
    "# plot order parameter trajectories of the unbiased simulations\n",
    "for t in adw_md_trajs:\n",
    "    plt.plot(t)\n",
    "plt.ylabel('x')\n",
    "plt.xlabel('step')"
   ]
  },
  {
   "cell_type": "code",
   "execution_count": null,
   "metadata": {},
   "outputs": [],
   "source": [
    "# run the estimator again for a sequence of lag times\n",
    "lags = [1, 2, 5, 7, 10, 15, 20, 30, 40, 50, 70, 100]\n",
    "\n",
    "memms = pyemma.thermo.estimate_umbrella_sampling(\n",
    "    adw_us_trajs, adw_us_dtrajs, adw_us_umbrella_centers, adw_us_force_constants,\n",
    "    md_trajs=adw_md_trajs, md_dtrajs=adw_md_dtrajs,\n",
    "    lag=lags,\n",
    "    maxiter=100000, maxerr=1.0E-15, save_convergence_info=50, estimator='dtram')"
   ]
  },
  {
   "cell_type": "code",
   "execution_count": null,
   "metadata": {},
   "outputs": [],
   "source": [
    "# TRAM\n",
    "#lags = [1, 10, 50]\n",
    "#memms = pyemma.thermo.estimate_umbrella_sampling(\n",
    "#    adw_us_trajs, adw_us_dtrajs, adw_us_umbrella_centers, adw_us_force_constants,\n",
    "#    md_trajs=adw_md_trajs, md_dtrajs=adw_md_dtrajs,\n",
    "#    lag=lags,\n",
    "#    maxiter=100000, maxerr=1.0E-6, init_maxerr=1.0, save_convergence_info=50, estimator='tram', direct_space=True)"
   ]
  },
  {
   "cell_type": "code",
   "execution_count": null,
   "metadata": {},
   "outputs": [],
   "source": [
    "[ m.name for m in memms ]"
   ]
  },
  {
   "cell_type": "code",
   "execution_count": null,
   "metadata": {},
   "outputs": [],
   "source": [
    "# plot implied time scales depending on lag time\n",
    "pyemma.plots.plot_memm_implied_timescales(memms)"
   ]
  },
  {
   "cell_type": "code",
   "execution_count": null,
   "metadata": {},
   "outputs": [],
   "source": [
    "# at 10 steps the implied time scales look converged, pick that model for analysis\n",
    "print(memms[4].lag)\n",
    "dtram_estiamtor = memms[4]"
   ]
  },
  {
   "cell_type": "code",
   "execution_count": null,
   "metadata": {},
   "outputs": [],
   "source": [
    "# for TRAM\n",
    "#print(memms[1].lag)\n",
    "#dtram_estiamtor = memms[1]"
   ]
  },
  {
   "cell_type": "code",
   "execution_count": null,
   "metadata": {},
   "outputs": [],
   "source": [
    "# plot estimate of the stationary distribution\n",
    "adw_us_x, adw_us_f = shortcuts.adw_match_reference_to_binning(adw_us_trajs, adw_us_cluster.clustercenters)\n",
    "\n",
    "plt.figure(figsize=(2 * pw, ph))\n",
    "plt.plot(\n",
    "    adw_us_cluster.clustercenters[dtram_estiamtor.active_set, 0], dtram_estiamtor.f, 's', markersize=10, label=dtram_estiamtor.name)\n",
    "plt.plot(adw_us_x, adw_us_f, '-*', linewidth=2, markersize=9, color='black', label='Reference')\n",
    "plt.xlabel(r\"configuration state\", fontsize=20)\n",
    "plt.ylabel(r\"f / kT\", fontsize=20)"
   ]
  },
  {
   "cell_type": "code",
   "execution_count": null,
   "metadata": {},
   "outputs": [],
   "source": [
    "# The MSM of the unbiased ensemble can be accessed via dtram_estiamtor.msm\n",
    "unbiased_msm = dtram_estiamtor.msm\n",
    "\n",
    "# We can do all the usual MSM analyses now, e. g. coarse-graining with PCCA and computing MFPTs.\n",
    "pcca = unbiased_msm.pcca(2)\n",
    "\n",
    "print(\"MFPT[blue->green] = %7.1f steps\" %  unbiased_msm.mfpt(pcca.metastable_sets[0], pcca.metastable_sets[1]))\n",
    "print(\"MFPT[green->blue] = %7.1f steps\" %  unbiased_msm.mfpt(pcca.metastable_sets[1], pcca.metastable_sets[0]))\n",
    "\n",
    "plt.plot(adw_us_x, adw_us_f, '-*', linewidth=2, markersize=9, color='black')\n",
    "plt.scatter(\n",
    "    adw_us_cluster.clustercenters[unbiased_msm.active_set, 0],\n",
    "    -np.log(unbiased_msm.stationary_distribution[unbiased_msm.active_set]),\n",
    "    s=120, c=pcca.metastable_assignment, cmap=mpl.cm.brg)\n",
    "\n",
    "plt.xlabel(r\"configuration state\", fontsize=20)\n",
    "plt.ylabel(r\"f / kT\", fontsize=20)\n",
    "plt.tick_params(labelsize=15)\n",
    "plt.xlim([-1, 5])\n",
    "plt.ylim([0, 12])"
   ]
  },
  {
   "cell_type": "markdown",
   "metadata": {},
   "source": [
    "# PyEMMA's general thermo API\n",
    "\n",
    "## binned estimators\n",
    "The `pyemma.thermo` module provides the following API functions to perform ``dTRAM`` and ``WHAM`` estimations:\n",
    "\n",
    "```python\n",
    "def dtram(\n",
    "    ttrajs, dtrajs, bias, lag,\n",
    "    maxiter=10000, maxerr=1.0E-15, save_convergence_info=0,\n",
    "    dt_traj='1 step', init=None):\n",
    "    ...\n",
    "    \n",
    "def wham(\n",
    "    ttrajs, dtrajs, bias,\n",
    "    maxiter=100000, maxerr=1.0E-15, save_convergence_info=0,\n",
    "    dt_traj='1 step'):\n",
    "    ...\n",
    "```\n",
    "\n",
    "- ``ttrajs`` is a list of ``numpy.ndarray`` objects with ``shape=(T_i,)``, where ``T_i`` denotes the number of frames in trajectory ``i``. The entries indicate in which thermodynamic state each frame was created.\n",
    "- ``dtrajs`` is a list of ``numpy.ndarray`` objects with ``shape=(T_i,)``, where ``T_i`` denotes the number of frames in trajectory ``i``. The entries indicate to which discrete configuration states each frame belongs.\n",
    "- ``bias`` is a ``numpy.ndarray`` with ``shape=(K, N)``, where ``K`` is the number of thermodynamic states and ``N`` is the number of discrete configuration states. The elements are the dimensionless bias energies for all combinations of discrete configuration and thermodynamic states.\n",
    "- ``lag`` is the lag time in steps at which transitions are counted.\n",
    "\n",
    "\n",
    "## bin-less estimators\n",
    "\n",
    "```python\n",
    "def tram(\n",
    "    ttrajs, dtrajs, bias, lag,\n",
    "    maxiter=10000, maxerr=1.0E-15, save_convergence_info=0,\n",
    "    dt_traj='1 step', init=None, direct_space=False):\n",
    "    ...\n",
    "    \n",
    "def mbar(\n",
    "    ttrajs, dtrajs, bias,\n",
    "    maxiter=100000, maxerr=1.0E-15, save_convergence_info=0,\n",
    "    dt_traj='1 step', direct_space=False):\n",
    "    ...\n",
    "```\n",
    "\n",
    "The ``bias`` parameter of bin-less estimators has a different formet than for binned estimators:\n",
    "\n",
    "\n",
    "- ``bias`` is a ``(numpy.ndarray(T, num_therm_states)``, or list of ``numpy.ndarray(T_i, num_therm_states))`` – A single reduced bias energy trajectory or a list of reduced bias energy trajectories. For every simulation frame seen in trajectory `i` and time step `t`, ``btrajs[i][t, k]`` is the reduced bias energy of that frame evaluated in the `k`’th thermodynamic state (i.e. at the `k`’th umbrella/Hamiltonian/temperature)\n",
    "\n",
    "The parameter ``direct_space`` allows to optimize the calculation for speed.\n",
    "\n",
    "- ``direct_space`` is an optional boolean parameter that is false by default. – Whether to perform the self-consitent iteration with Boltzmann factors (direct space) or free energies (log-space). Calculations in direct space are faster. When analyzing data from multi-temperature simulations, direct-space is not recommended.\n",
    "\n",
    "To make the preparation of ``ttrajs`` and ``bias`` easier, we provide two further API functions to handle the preparation for certain types of simulations, i.e., multi-temperature and umbrella sampling with harmonic bias potentials."
   ]
  },
  {
   "cell_type": "code",
   "execution_count": null,
   "metadata": {},
   "outputs": [],
   "source": []
  }
 ],
 "metadata": {
  "kernelspec": {
   "display_name": "Python 3",
   "language": "python",
   "name": "python3"
  },
  "language_info": {
   "codemirror_mode": {
    "name": "ipython",
    "version": 3
   },
   "file_extension": ".py",
   "mimetype": "text/x-python",
   "name": "python",
   "nbconvert_exporter": "python",
   "pygments_lexer": "ipython3",
   "version": "3.6.1"
  },
  "widgets": {
   "state": {
    "50db3d5cc6a04d16bd12570766f0e4ff": {
     "views": [
      {
       "cell_index": 23
      }
     ]
    },
    "5fdb67a20a6149edae7d492d460f5ad0": {
     "views": [
      {
       "cell_index": 23
      }
     ]
    },
    "7a51b1fc2b2b41d1abcdb0109735a776": {
     "views": [
      {
       "cell_index": 23
      }
     ]
    },
    "bca84f0d22cb4f559518403513a679f2": {
     "views": [
      {
       "cell_index": 23
      }
     ]
    },
    "d82393608eb8499fad40c83caa2dd272": {
     "views": [
      {
       "cell_index": 23
      }
     ]
    }
   },
   "version": "1.2.0"
  }
 },
 "nbformat": 4,
 "nbformat_minor": 1
}
