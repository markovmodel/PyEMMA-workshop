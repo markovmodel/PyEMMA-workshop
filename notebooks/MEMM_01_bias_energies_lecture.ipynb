{
 "cells": [
  {
   "cell_type": "code",
   "execution_count": null,
   "metadata": {},
   "outputs": [],
   "source": [
    "%matplotlib inline\n",
    "import matplotlib as mpl\n",
    "import matplotlib.pyplot as plt\n",
    "import numpy as np\n",
    "import pyemma\n",
    "import pyemma.thermo.util\n",
    "import mdshare\n",
    "import shortcuts_thermo as shortcuts"
   ]
  },
  {
   "cell_type": "markdown",
   "metadata": {},
   "source": [
    "# Analysing Umbrella sampling simulations "
   ]
  },
  {
   "cell_type": "code",
   "execution_count": null,
   "metadata": {},
   "outputs": [],
   "source": [
    "with np.load(mdshare.load('pyemma-tutorial-us-data.npz', working_directory='data')) as fh:\n",
    "    # load biased data\n",
    "    order_parameter_trajs = [fh['us_traj_%03d.npy' % i] for i in range(100)]\n",
    "    rest_positions = fh['umbrella_centers'].tolist()\n",
    "    spring_constants = fh['force_constants'].tolist()\n",
    "    # load unbiased data\n",
    "    adw_md_trajs = [fh['md_traj_%03d.npy' % i] for i in range(5)]"
   ]
  },
  {
   "cell_type": "markdown",
   "metadata": {},
   "source": [
    "We use 20 different harmonic bias potentials (umbrella potentials).\n",
    "They are defined by their sping constants $k^{(i)}$ and their 20 different rest positions $x^{(i)}$. \n",
    "\n",
    "$$b^{(i)}(x) = \\frac{k^{(i)}}{2} \\left\\Vert x - x^{(i)} \\right\\Vert^2.$$\n",
    "\n",
    "With each bias potential we ran 5 simulations which results in a total number of 20\\*5=100 trajectories.\n",
    "\n",
    "For each simulation $i$ we saved:\n",
    "\n",
    "  * The spring constant $k{(i)}$ that was active in the simulation (variable `spring_constants[i]`)\n",
    "  * The rest position $x{(i)}$ of the bias potential that was ative in the simulation (variable `rest_positions[i]`)\n",
    "  * The time series $x(t)$ for the order parameter (variable `order_parameter_trajs[i]`)"
   ]
  },
  {
   "cell_type": "code",
   "execution_count": null,
   "metadata": {},
   "outputs": [],
   "source": [
    "print('len(spring_constants) =', len(spring_constants))\n",
    "print('len(rest_positions) =', len(rest_positions))\n",
    "print('len(order_parameter_trajs) =', len(order_parameter_trajs))\n",
    "print('order_parameter_trajs[0].shape =', order_parameter_trajs[0].shape)"
   ]
  },
  {
   "cell_type": "markdown",
   "metadata": {},
   "source": [
    "Before we start with the analysis, let's get an overview over the data. \n",
    "For this, we make a histogram of every order parameter time series.\n",
    "We also mark the umbrella rest positions in the same plot."
   ]
  },
  {
   "cell_type": "code",
   "execution_count": null,
   "metadata": {},
   "outputs": [],
   "source": [
    "for order_parameter_traj in order_parameter_trajs:\n",
    "    plt.hist(order_parameter_traj)\n",
    "plt.plot(rest_positions, np.ones_like(rest_positions)+100, 'xk')\n",
    "plt.ylabel('counts')\n",
    "plt.xlabel('order parameter / a.u.')"
   ]
  },
  {
   "cell_type": "markdown",
   "metadata": {},
   "source": [
    "## 1. Using the bare metal API"
   ]
  },
  {
   "cell_type": "markdown",
   "metadata": {},
   "source": [
    "To run the estimation methods, we have to define three quantities for every simulations:\n",
    "    \n",
    "   * (A) The thermodynamics state trajectory (`ttraj`), that contain the index of the bias potential used in the simulation.\n",
    "   * (B) The bias energy trajectory (`btraj`) that contain the energies of every frame evaluated with all the bias potentials.\n",
    "   * (C) The discrete microstate trajectory (`dtraj`)."
   ]
  },
  {
   "cell_type": "markdown",
   "metadata": {},
   "source": [
    "### (A) The thermodynamic state trajectories"
   ]
  },
  {
   "cell_type": "markdown",
   "metadata": {},
   "source": [
    "For every trajectory, we compute the index of the active bias.\n",
    "Until now we didn't assign indices to the different bias potentials. We only have the lists `spring_constants` and `rest_positions` that contain the parameters that were used in the simulations. But because the numbering of the simualtions is arbitray, so is the ordering of `spring_constants` and `rest_positions`.\n",
    "\n",
    "So let's assign indices to the potentials. We start by removing duplicates from the list:"
   ]
  },
  {
   "cell_type": "code",
   "execution_count": null,
   "metadata": {},
   "outputs": [],
   "source": [
    "unique_spring_constants = np.unique(spring_constants)\n",
    "unique_rest_positions = np.unique(rest_positions)\n",
    "\n",
    "K = len(unique_rest_positions)\n",
    "print('number of ensembles:', K)\n",
    "print('unique_spring_constants', unique_spring_constants)"
   ]
  },
  {
   "cell_type": "markdown",
   "metadata": {},
   "source": [
    "The order of the parameters in the lists now defines the indices, that is `unique_rest_positions[i]` is a parameter of the `i`'th potential.\n",
    "\n",
    "Now that the order of the potentials is defined, we can compute the thermodynamic state trajectories."
   ]
  },
  {
   "cell_type": "code",
   "execution_count": null,
   "metadata": {},
   "outputs": [],
   "source": [
    "ttrajs = []\n",
    "for i, rest_position in enumerate(rest_positions):\n",
    "    # get index of active rest position in the list of all possible rest positions\n",
    "    ensemble_index = np.where(rest_position == unique_rest_positions)[0][0] \n",
    "    # define the ttraj \n",
    "    ttraj = np.array([ensemble_index]*len(order_parameter_trajs[i]))\n",
    "    ttrajs.append(ttraj) "
   ]
  },
  {
   "cell_type": "markdown",
   "metadata": {},
   "source": [
    "### (B) The bias energy trajectories"
   ]
  },
  {
   "cell_type": "markdown",
   "metadata": {},
   "source": [
    "For every simulation we generate a 2-D array `btraj[t, k]` with the elements $$b^{(i)}(x_t) = \\frac{k^{(i)}}{2} \\left\\Vert x_t - x^{(i)} \\right\\Vert^2.$$"
   ]
  },
  {
   "cell_type": "markdown",
   "metadata": {},
   "source": [
    "Such an expression can be writtien very succinctly with `numpy` operations:"
   ]
  },
  {
   "cell_type": "code",
   "execution_count": null,
   "metadata": {},
   "outputs": [],
   "source": [
    "btrajs = []\n",
    "for order_parameter_traj in order_parameter_trajs:\n",
    "    btraj = np.zeros((len(order_parameter_traj), K))\n",
    "    for k in range(K):\n",
    "        btraj[:, k] = 0.5*unique_spring_constants*(order_parameter_traj[:, 0] - unique_rest_positions[k])**2\n",
    "    btrajs.append(btraj)\n",
    "    \n",
    "# The array indexing in order_parameter_traj[:, 0] is used to get rid of an unused extra array dimension."
   ]
  },
  {
   "cell_type": "markdown",
   "metadata": {},
   "source": [
    "### (C) The discrete microstate trajectory\n",
    "\n",
    "Here we just use one of the clustering methods from PyEmma.\n",
    "Since in this example, the state space is one-dimensional, we can just cluster the order parameter. \n",
    "In general it is not enough to cluster the order parameters but other system coordiantes have to be included into the definition of microstates."
   ]
  },
  {
   "cell_type": "code",
   "execution_count": null,
   "metadata": {},
   "outputs": [],
   "source": [
    "clustering_obj = pyemma.coordinates.cluster_regspace(order_parameter_trajs, max_centers=500, dmin=0.2)\n",
    "dtrajs = clustering_obj.dtrajs"
   ]
  },
  {
   "cell_type": "markdown",
   "metadata": {},
   "source": [
    "Now we're ready to run the estiamtors. We start with `wham`.\n",
    "As explained in the lecture, WHAM assumes that the bias energy is constant on every microstate. However, above we computed bias energy values for every frame (conformation). We therefore have to coarse-grain the bias energy values. This is achieved by the utility functions `get_averaged_bias_matrix`."
   ]
  },
  {
   "cell_type": "code",
   "execution_count": null,
   "metadata": {},
   "outputs": [],
   "source": [
    "wham = pyemma.thermo.wham(ttrajs=ttrajs, dtrajs=dtrajs, \n",
    "                          bias=pyemma.thermo.util.get_averaged_bias_matrix(btrajs, dtrajs))"
   ]
  },
  {
   "cell_type": "markdown",
   "metadata": {},
   "source": [
    "To quickly check the result, we plot minus the logarithm of the equilibrium distribution that was estimated by WHAM. "
   ]
  },
  {
   "cell_type": "code",
   "execution_count": null,
   "metadata": {},
   "outputs": [],
   "source": [
    "plt.plot(clustering_obj.clustercenters, -np.log(wham.pi_full_state), 'o')\n",
    "plt.xlabel('order parameter / a.u.')\n",
    "plt.ylabel('free energy / kT');"
   ]
  },
  {
   "cell_type": "markdown",
   "metadata": {},
   "source": [
    "## 2. Using the user friendly API"
   ]
  },
  {
   "cell_type": "markdown",
   "metadata": {},
   "source": [
    "The umbrella sampling API not only supports one-dimensional umbrella sampling with the bias\n",
    "\n",
    "$$b^{(i)}(\\mathbf{x}) = \\frac{k^{(i)}}{2} \\left\\Vert \\mathbf{x} - \\mathbf{x}^{(i)} \\right\\Vert^2.$$\n",
    "\n",
    "but also the more general case, where the bias energy is given with a quadratic form with a possibly non-symmetric force matrix:\n",
    "\n",
    "$$b^{(i)}(\\mathbf{x}) = \\frac{1}{2} \\left\\langle \\mathbf{x} - \\mathbf{x}^{(i)} \\middle\\vert \\mathbf{k}^{(i)} \\middle\\vert \\mathbf{x} - \\mathbf{x}^{(i)} \\right\\rangle.$$\n",
    "\n",
    "\n",
    "For these simulation types, the `pyemma.thermo` module provides the API function\n",
    "\n",
    "```python\n",
    "def estimate_umbrella_sampling(\n",
    "    us_trajs, us_dtrajs, us_centers, us_force_constants,\n",
    "    md_trajs=None, md_dtrajs=None, kT=None,\n",
    "    maxiter=10000, maxerr=1.0E-15, save_convergence_info=0,\n",
    "    estimator='wham', lag=1, dt_traj='1 step', init=None):\n",
    "    ...\n",
    "\n",
    "```"
   ]
  },
  {
   "cell_type": "code",
   "execution_count": null,
   "metadata": {},
   "outputs": [],
   "source": [
    "wham = pyemma.thermo.estimate_umbrella_sampling(\n",
    "    order_parameter_trajs, dtrajs, rest_positions, spring_constants,\n",
    "    maxiter=100000, maxerr=1.0E-15, save_convergence_info=50, estimator='wham')"
   ]
  },
  {
   "cell_type": "markdown",
   "metadata": {},
   "source": [
    "Note also that we used the optinal parameter `save_convergence_info=50`. This instructs wham to track the convergence of the log-lokelihood and the change in the estimated free energy matrix."
   ]
  },
  {
   "cell_type": "code",
   "execution_count": null,
   "metadata": {},
   "outputs": [],
   "source": [
    "pyemma.plots.plot_convergence_info(wham)"
   ]
  },
  {
   "cell_type": "markdown",
   "metadata": {},
   "source": [
    "Let's check the results:"
   ]
  },
  {
   "cell_type": "code",
   "execution_count": null,
   "metadata": {},
   "outputs": [],
   "source": [
    "us_estimator = wham\n",
    "adw_us_x, adw_us_f = shortcuts.adw_match_reference_to_binning(order_parameter_trajs, clustering_obj.clustercenters)\n",
    "fig, ax = plt.subplots(1, 2, figsize=(2 * 6, 0.75*6))\n",
    "ax[0].plot(\n",
    "    clustering_obj.clustercenters, us_estimator.f_full_state, 's', markersize=10, label=us_estimator.name)\n",
    "ax[0].plot(adw_us_x, adw_us_f, '-*', linewidth=2, markersize=9, color='black', label='Reference')\n",
    "ax[0].set_xlabel(r\"configuration state\", fontsize=20)\n",
    "ax[0].set_ylabel(r\"f / kT\", fontsize=20)\n",
    "ax[1].plot(unique_rest_positions, us_estimator.f_therm, 's', markersize=10, label=us_estimator.name)\n",
    "ax[1].set_xlabel(r\"umbrella_center\", fontsize=20)\n",
    "ax[1].set_ylabel(r\"f_therm / kT\", fontsize=20)\n",
    "for _ax in ax:\n",
    "    _ax.tick_params(labelsize=15)\n",
    "    _ax.set_ylim([0, 12])\n",
    "    _ax.legend(loc=4, fontsize=10, fancybox=True, framealpha=0.5)\n",
    "fig.tight_layout()"
   ]
  },
  {
   "cell_type": "code",
   "execution_count": null,
   "metadata": {},
   "outputs": [],
   "source": []
  }
 ],
 "metadata": {
  "kernelspec": {
   "display_name": "Python 3",
   "language": "python",
   "name": "python3"
  },
  "language_info": {
   "codemirror_mode": {
    "name": "ipython",
    "version": 3
   },
   "file_extension": ".py",
   "mimetype": "text/x-python",
   "name": "python",
   "nbconvert_exporter": "python",
   "pygments_lexer": "ipython3",
   "version": "3.6.1"
  }
 },
 "nbformat": 4,
 "nbformat_minor": 2
}
